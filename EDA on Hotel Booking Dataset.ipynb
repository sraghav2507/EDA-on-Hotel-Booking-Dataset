{
 "cells": [
  {
   "cell_type": "markdown",
   "metadata": {
    "id": "Y06xIdG26kRF"
   },
   "source": [
    "## <b> Have you ever wondered when the best time of year to book a hotel room is? Or the optimal length of stay in order to get the best daily rate? What if you wanted to predict whether or not a hotel was likely to receive a disproportionately high number of special requests? This hotel booking dataset can help you explore those questions!\n",
    "\n",
    "## <b>This data set contains booking information for a city hotel and a resort hotel, and includes information such as when the booking was made, length of stay, the number of adults, children, and/or babies, and the number of available parking spaces, among other things. All personally identifying information has been removed from the data. </b>\n",
    "\n",
    "## <b> Explore and analyze the data to discover important factors that govern the bookings. </b>"
   ]
  },
  {
   "cell_type": "markdown",
   "metadata": {
    "id": "HLNgY_ymzu6k"
   },
   "source": [
    "\n",
    "This dataset contain information of hotel booking, We will perform exploratory data analysis to get insight from the data.\n",
    "\n",
    "We will try to analyze the important factors that governs the bookings in the following steps:\n",
    "\n",
    "1. We will try to find out  the **Total number of Hotel Bookings that were get  Cancelled.**\n",
    "2. Then we will find the **Booking Ratio between Resort Hotel and City Hotel.**\n",
    "3. Now We will find **Hotel Booking Pecentage for Each Year.**\n",
    "4. After all of these We'll try to get **Most busiest month for the Hotel.**\n",
    "5. Find out the **Country From which we get Most number of guests.**\n",
    "6. We will try to get for **How Long People Stay in the hotel.**\n",
    "7. At last will try to get the **Most booked accommodation type (Single, Couple, Family/Friends).**\n",
    "\n",
    "\n"
   ]
  },
  {
   "cell_type": "code",
   "execution_count": 38,
   "metadata": {
    "id": "dByMsuzT8Tnw"
   },
   "outputs": [],
   "source": [
    "#importing packages\n",
    "\n",
    "import numpy as np\n",
    "import pandas as pd\n",
    "import matplotlib.pyplot as plt\n",
    "import seaborn as sns\n",
    "import plotly.express as px\n",
    "\n",
    "\n",
    "\n",
    "\n"
   ]
  },
  {
   "cell_type": "code",
   "execution_count": 2,
   "metadata": {
    "id": "YcwT2YruxGD9"
   },
   "outputs": [],
   "source": [
    "#Mounting google drive and Importing csv file"
   ]
  },
  {
   "cell_type": "code",
   "execution_count": 4,
   "metadata": {
    "colab": {
     "base_uri": "https://localhost:8080/"
    },
    "id": "bTRfTcb-_upe",
    "outputId": "60c58118-72b9-4dd1-d432-cd6eaf05dd71"
   },
   "outputs": [
    {
     "name": "stdout",
     "output_type": "stream",
     "text": [
      "Drive already mounted at /content/drive; to attempt to forcibly remount, call drive.mount(\"/content/drive\", force_remount=True).\n"
     ]
    }
   ],
   "source": [
    "from google.colab import drive\n",
    "drive.mount('/content/drive')\n",
    "file_path='/content/drive/MyDrive/HOTEL BOOKING ANALYSIS/Hotel Bookings.csv'\n",
    "df_hba=pd.read_csv(file_path)"
   ]
  },
  {
   "cell_type": "code",
   "execution_count": 5,
   "metadata": {
    "colab": {
     "base_uri": "https://localhost:8080/"
    },
    "id": "06GlK7MchTb3",
    "outputId": "695555b9-688a-48ce-9696-e20683a9394e"
   },
   "outputs": [
    {
     "data": {
      "text/plain": [
       "(119390, 32)"
      ]
     },
     "execution_count": 5,
     "metadata": {
      "tags": []
     },
     "output_type": "execute_result"
    }
   ],
   "source": [
    "#find out size of data\n",
    "df_hba.shape"
   ]
  },
  {
   "cell_type": "code",
   "execution_count": 6,
   "metadata": {
    "colab": {
     "base_uri": "https://localhost:8080/",
     "height": 307
    },
    "id": "zo4wgLqYRnnS",
    "outputId": "7cee8c9a-40f2-40a8-80b3-58ff7c003d31"
   },
   "outputs": [
    {
     "data": {
      "text/html": [
       "<div>\n",
       "<style scoped>\n",
       "    .dataframe tbody tr th:only-of-type {\n",
       "        vertical-align: middle;\n",
       "    }\n",
       "\n",
       "    .dataframe tbody tr th {\n",
       "        vertical-align: top;\n",
       "    }\n",
       "\n",
       "    .dataframe thead th {\n",
       "        text-align: right;\n",
       "    }\n",
       "</style>\n",
       "<table border=\"1\" class=\"dataframe\">\n",
       "  <thead>\n",
       "    <tr style=\"text-align: right;\">\n",
       "      <th></th>\n",
       "      <th>hotel</th>\n",
       "      <th>is_canceled</th>\n",
       "      <th>lead_time</th>\n",
       "      <th>arrival_date_year</th>\n",
       "      <th>arrival_date_month</th>\n",
       "      <th>arrival_date_week_number</th>\n",
       "      <th>arrival_date_day_of_month</th>\n",
       "      <th>stays_in_weekend_nights</th>\n",
       "      <th>stays_in_week_nights</th>\n",
       "      <th>adults</th>\n",
       "      <th>children</th>\n",
       "      <th>babies</th>\n",
       "      <th>meal</th>\n",
       "      <th>country</th>\n",
       "      <th>market_segment</th>\n",
       "      <th>distribution_channel</th>\n",
       "      <th>is_repeated_guest</th>\n",
       "      <th>previous_cancellations</th>\n",
       "      <th>previous_bookings_not_canceled</th>\n",
       "      <th>reserved_room_type</th>\n",
       "      <th>assigned_room_type</th>\n",
       "      <th>booking_changes</th>\n",
       "      <th>deposit_type</th>\n",
       "      <th>agent</th>\n",
       "      <th>company</th>\n",
       "      <th>days_in_waiting_list</th>\n",
       "      <th>customer_type</th>\n",
       "      <th>adr</th>\n",
       "      <th>required_car_parking_spaces</th>\n",
       "      <th>total_of_special_requests</th>\n",
       "      <th>reservation_status</th>\n",
       "      <th>reservation_status_date</th>\n",
       "    </tr>\n",
       "  </thead>\n",
       "  <tbody>\n",
       "    <tr>\n",
       "      <th>0</th>\n",
       "      <td>Resort Hotel</td>\n",
       "      <td>0</td>\n",
       "      <td>342</td>\n",
       "      <td>2015</td>\n",
       "      <td>July</td>\n",
       "      <td>27</td>\n",
       "      <td>1</td>\n",
       "      <td>0</td>\n",
       "      <td>0</td>\n",
       "      <td>2</td>\n",
       "      <td>0.0</td>\n",
       "      <td>0</td>\n",
       "      <td>BB</td>\n",
       "      <td>PRT</td>\n",
       "      <td>Direct</td>\n",
       "      <td>Direct</td>\n",
       "      <td>0</td>\n",
       "      <td>0</td>\n",
       "      <td>0</td>\n",
       "      <td>C</td>\n",
       "      <td>C</td>\n",
       "      <td>3</td>\n",
       "      <td>No Deposit</td>\n",
       "      <td>NaN</td>\n",
       "      <td>NaN</td>\n",
       "      <td>0</td>\n",
       "      <td>Transient</td>\n",
       "      <td>0.0</td>\n",
       "      <td>0</td>\n",
       "      <td>0</td>\n",
       "      <td>Check-Out</td>\n",
       "      <td>2015-07-01</td>\n",
       "    </tr>\n",
       "    <tr>\n",
       "      <th>1</th>\n",
       "      <td>Resort Hotel</td>\n",
       "      <td>0</td>\n",
       "      <td>737</td>\n",
       "      <td>2015</td>\n",
       "      <td>July</td>\n",
       "      <td>27</td>\n",
       "      <td>1</td>\n",
       "      <td>0</td>\n",
       "      <td>0</td>\n",
       "      <td>2</td>\n",
       "      <td>0.0</td>\n",
       "      <td>0</td>\n",
       "      <td>BB</td>\n",
       "      <td>PRT</td>\n",
       "      <td>Direct</td>\n",
       "      <td>Direct</td>\n",
       "      <td>0</td>\n",
       "      <td>0</td>\n",
       "      <td>0</td>\n",
       "      <td>C</td>\n",
       "      <td>C</td>\n",
       "      <td>4</td>\n",
       "      <td>No Deposit</td>\n",
       "      <td>NaN</td>\n",
       "      <td>NaN</td>\n",
       "      <td>0</td>\n",
       "      <td>Transient</td>\n",
       "      <td>0.0</td>\n",
       "      <td>0</td>\n",
       "      <td>0</td>\n",
       "      <td>Check-Out</td>\n",
       "      <td>2015-07-01</td>\n",
       "    </tr>\n",
       "    <tr>\n",
       "      <th>2</th>\n",
       "      <td>Resort Hotel</td>\n",
       "      <td>0</td>\n",
       "      <td>7</td>\n",
       "      <td>2015</td>\n",
       "      <td>July</td>\n",
       "      <td>27</td>\n",
       "      <td>1</td>\n",
       "      <td>0</td>\n",
       "      <td>1</td>\n",
       "      <td>1</td>\n",
       "      <td>0.0</td>\n",
       "      <td>0</td>\n",
       "      <td>BB</td>\n",
       "      <td>GBR</td>\n",
       "      <td>Direct</td>\n",
       "      <td>Direct</td>\n",
       "      <td>0</td>\n",
       "      <td>0</td>\n",
       "      <td>0</td>\n",
       "      <td>A</td>\n",
       "      <td>C</td>\n",
       "      <td>0</td>\n",
       "      <td>No Deposit</td>\n",
       "      <td>NaN</td>\n",
       "      <td>NaN</td>\n",
       "      <td>0</td>\n",
       "      <td>Transient</td>\n",
       "      <td>75.0</td>\n",
       "      <td>0</td>\n",
       "      <td>0</td>\n",
       "      <td>Check-Out</td>\n",
       "      <td>2015-07-02</td>\n",
       "    </tr>\n",
       "    <tr>\n",
       "      <th>3</th>\n",
       "      <td>Resort Hotel</td>\n",
       "      <td>0</td>\n",
       "      <td>13</td>\n",
       "      <td>2015</td>\n",
       "      <td>July</td>\n",
       "      <td>27</td>\n",
       "      <td>1</td>\n",
       "      <td>0</td>\n",
       "      <td>1</td>\n",
       "      <td>1</td>\n",
       "      <td>0.0</td>\n",
       "      <td>0</td>\n",
       "      <td>BB</td>\n",
       "      <td>GBR</td>\n",
       "      <td>Corporate</td>\n",
       "      <td>Corporate</td>\n",
       "      <td>0</td>\n",
       "      <td>0</td>\n",
       "      <td>0</td>\n",
       "      <td>A</td>\n",
       "      <td>A</td>\n",
       "      <td>0</td>\n",
       "      <td>No Deposit</td>\n",
       "      <td>304.0</td>\n",
       "      <td>NaN</td>\n",
       "      <td>0</td>\n",
       "      <td>Transient</td>\n",
       "      <td>75.0</td>\n",
       "      <td>0</td>\n",
       "      <td>0</td>\n",
       "      <td>Check-Out</td>\n",
       "      <td>2015-07-02</td>\n",
       "    </tr>\n",
       "    <tr>\n",
       "      <th>4</th>\n",
       "      <td>Resort Hotel</td>\n",
       "      <td>0</td>\n",
       "      <td>14</td>\n",
       "      <td>2015</td>\n",
       "      <td>July</td>\n",
       "      <td>27</td>\n",
       "      <td>1</td>\n",
       "      <td>0</td>\n",
       "      <td>2</td>\n",
       "      <td>2</td>\n",
       "      <td>0.0</td>\n",
       "      <td>0</td>\n",
       "      <td>BB</td>\n",
       "      <td>GBR</td>\n",
       "      <td>Online TA</td>\n",
       "      <td>TA/TO</td>\n",
       "      <td>0</td>\n",
       "      <td>0</td>\n",
       "      <td>0</td>\n",
       "      <td>A</td>\n",
       "      <td>A</td>\n",
       "      <td>0</td>\n",
       "      <td>No Deposit</td>\n",
       "      <td>240.0</td>\n",
       "      <td>NaN</td>\n",
       "      <td>0</td>\n",
       "      <td>Transient</td>\n",
       "      <td>98.0</td>\n",
       "      <td>0</td>\n",
       "      <td>1</td>\n",
       "      <td>Check-Out</td>\n",
       "      <td>2015-07-03</td>\n",
       "    </tr>\n",
       "  </tbody>\n",
       "</table>\n",
       "</div>"
      ],
      "text/plain": [
       "          hotel  is_canceled  ...  reservation_status  reservation_status_date\n",
       "0  Resort Hotel            0  ...           Check-Out               2015-07-01\n",
       "1  Resort Hotel            0  ...           Check-Out               2015-07-01\n",
       "2  Resort Hotel            0  ...           Check-Out               2015-07-02\n",
       "3  Resort Hotel            0  ...           Check-Out               2015-07-02\n",
       "4  Resort Hotel            0  ...           Check-Out               2015-07-03\n",
       "\n",
       "[5 rows x 32 columns]"
      ]
     },
     "execution_count": 6,
     "metadata": {
      "tags": []
     },
     "output_type": "execute_result"
    }
   ],
   "source": [
    "df_hba.head()"
   ]
  },
  {
   "cell_type": "markdown",
   "metadata": {
    "id": "04JcZL-Dijmb"
   },
   "source": [
    "## **Columns Detail Description**"
   ]
  },
  {
   "cell_type": "markdown",
   "metadata": {
    "id": "-JkwQzI5g1uI"
   },
   "source": [
    "1. **hotel**: type of hotels \n",
    "\n",
    "\n",
    "\n",
    "             H1: Resort hotel\n",
    "             H2: City hotel\n",
    "\n",
    "\n",
    "\n",
    "\n",
    "2. **is_canceled**: canceled or not\n",
    "\n",
    "\n",
    "             1: Canceled\n",
    "             0: Not canceled\n",
    "\n",
    "\n",
    "\n",
    "3. **lead_time**:\n",
    " \n",
    "\n",
    "           no. of days before actual arrival in the hotel.\n",
    "\n",
    "\n",
    "\n",
    "4. **arrival_date_year** :  Year of arrival date (2015-2017).\n",
    "5. **arrival_date_month**:  Month of arrival date (Jan - Dec).\n",
    "6. **arrival_date_week_number**: Week number of year for arrival date (1-53).\n",
    "7. **arrival_date_day_of_month**: Day of arrival date.          \n",
    "8. **stays_in_weekend_nights**: No of weekend nights (Sat/Sun) the guest stayed or booked to stay at the hotel.\n",
    "9. **stays_in_week_nights**: No of week nights (Mon - Fri) the guest stayed or booked to stay at the hotel.                 \n",
    "10. **adults**                               \n",
    "11. **children**                          \n",
    "12. **babies**                                \n",
    "13. **meal**:       \n",
    "            BB – Bed & Breakfast\n",
    "            HB – only two meals including breakfast meal\n",
    "            FB – breakfast, lunch, and dinner\n",
    "14. **country**                           \n",
    "15. **market_segment**: a group of people who share one or more common characteristics, lumped together for marketing purposes).  \n",
    "            TA: Travel agents\n",
    "            TO: Tour operators                       \n",
    "16. **distribution_channel**: A distribution channel is a chain of businesses or intermediaries through which a good or service passes until it reaches the final buyer or the end consumer. \n",
    "\n",
    "\n",
    "            TA: Travel agents\n",
    "            TO: Tour operators\n",
    "\n",
    "\n",
    "17. **is_repeated_guest**: value indicating if the booking name was from repeated guest.\n",
    "\n",
    "\n",
    "            1: Yes\n",
    "            0: No\n",
    "\n",
    "\n",
    "18. **previous_cancellations: cancellation in past** : Number of previous bookings that were cancelled by the customer prior to the current booking.                 \n",
    "19. **previous_bookings_not_canceled: not cancelled in past** : Number of previous bookings not cancelled by the customer prior to the current booking.        \n",
    "20. **reserved_room_type** : Code of room type reserved. Code is presented instead of designation for anonymity reasons.                     \n",
    "21. **assigned_room_type** : Code for the type of room assigned to the booking. Sometimes the assigned room type differs from the reserved room type due to hotel operation reasons (e.g. overbooking) or by customer request. Code is presented instead of designation for anonymity reasons.                    \n",
    "22. **booking_changes** : Number of changes/amendments made to the booking from the moment the booking was entered on the PMS until the moment of check-in or cancellation.                        \n",
    "23. **deposit_type** : Indication on if the customer made a deposit to guarantee the booking. This variable can assume three categories: No Deposit – no deposit was made; Non Refund – a deposit was made in the value of the total stay cost; Refundable – a deposit was made with a value under the total cost of stay.                           \n",
    "24. **agent** : ID of the travel agency that made the booking.                              \n",
    "25. **company** : ID of the company/entity that made the booking or responsible for paying the booking. ID is presented instead of designation for anonymity reasons.                           \n",
    "26. **days_in_waiting_list** : Number of days the booking was in the waiting list before it was confirmed to the customer.                  \n",
    "27. **customer_type** : \n",
    "\n",
    "\n",
    "        Contract - when the booking has an allotment or other type of contract associated to it;\n",
    "        Group – when the booking is associated to a group;\n",
    "        Transient – when the booking is not part of a group or contract, and is not associated to other transient booking;\n",
    "        Transient-party – when the booking is transient, but is associated to at least other transient booking\n",
    "\n",
    "\n",
    "28. **adr:average daily rate** : average daily rate =Sum Of All Lodging Transaction / Total Number Of Staying Night.                                   \n",
    "29. **required_car_parking_spaces** : Number of car parking spaces required by the customer.            \n",
    "30. **total_of_special_requests** : Number of special requests made by the customer (e.g. twin bed or high floor).\n",
    "                 \n",
    "31. **reservation_status** :                      \n",
    "\n",
    "          Canceled – booking was canceled by the customer;\n",
    "          Check-Out – customer has checked in but already departed;\n",
    "          No-Show – customer did not check-in and did inform the hotel of the reason why\n",
    "\n",
    "32. **reservation_status_date** : Date at which the last status was set. This variable can be used in conjunction with the ReservationStatus to understand when was the booking canceled or when did the customer checked-out of the hotel."
   ]
  },
  {
   "cell_type": "markdown",
   "metadata": {
    "id": "eXfaNym2AM7Q"
   },
   "source": [
    "\"Get a concise summary of the dataframe.\"\n"
   ]
  },
  {
   "cell_type": "code",
   "execution_count": 7,
   "metadata": {
    "colab": {
     "base_uri": "https://localhost:8080/"
    },
    "id": "yuX8CQp1k0_b",
    "outputId": "0e7d16c9-ba64-4d96-e182-d78cc7f1e518"
   },
   "outputs": [
    {
     "name": "stdout",
     "output_type": "stream",
     "text": [
      "<class 'pandas.core.frame.DataFrame'>\n",
      "RangeIndex: 119390 entries, 0 to 119389\n",
      "Data columns (total 32 columns):\n",
      " #   Column                          Non-Null Count   Dtype  \n",
      "---  ------                          --------------   -----  \n",
      " 0   hotel                           119390 non-null  object \n",
      " 1   is_canceled                     119390 non-null  int64  \n",
      " 2   lead_time                       119390 non-null  int64  \n",
      " 3   arrival_date_year               119390 non-null  int64  \n",
      " 4   arrival_date_month              119390 non-null  object \n",
      " 5   arrival_date_week_number        119390 non-null  int64  \n",
      " 6   arrival_date_day_of_month       119390 non-null  int64  \n",
      " 7   stays_in_weekend_nights         119390 non-null  int64  \n",
      " 8   stays_in_week_nights            119390 non-null  int64  \n",
      " 9   adults                          119390 non-null  int64  \n",
      " 10  children                        119386 non-null  float64\n",
      " 11  babies                          119390 non-null  int64  \n",
      " 12  meal                            119390 non-null  object \n",
      " 13  country                         118902 non-null  object \n",
      " 14  market_segment                  119390 non-null  object \n",
      " 15  distribution_channel            119390 non-null  object \n",
      " 16  is_repeated_guest               119390 non-null  int64  \n",
      " 17  previous_cancellations          119390 non-null  int64  \n",
      " 18  previous_bookings_not_canceled  119390 non-null  int64  \n",
      " 19  reserved_room_type              119390 non-null  object \n",
      " 20  assigned_room_type              119390 non-null  object \n",
      " 21  booking_changes                 119390 non-null  int64  \n",
      " 22  deposit_type                    119390 non-null  object \n",
      " 23  agent                           103050 non-null  float64\n",
      " 24  company                         6797 non-null    float64\n",
      " 25  days_in_waiting_list            119390 non-null  int64  \n",
      " 26  customer_type                   119390 non-null  object \n",
      " 27  adr                             119390 non-null  float64\n",
      " 28  required_car_parking_spaces     119390 non-null  int64  \n",
      " 29  total_of_special_requests       119390 non-null  int64  \n",
      " 30  reservation_status              119390 non-null  object \n",
      " 31  reservation_status_date         119390 non-null  object \n",
      "dtypes: float64(4), int64(16), object(12)\n",
      "memory usage: 29.1+ MB\n"
     ]
    }
   ],
   "source": [
    "df_hba.info()"
   ]
  },
  {
   "cell_type": "markdown",
   "metadata": {
    "id": "OHyl0spnFDTk"
   },
   "source": [
    "First we will make a copy of hotel booking data so that our original hotel booking data remain unchanged.\n"
   ]
  },
  {
   "cell_type": "code",
   "execution_count": 8,
   "metadata": {
    "id": "JN_jUOh0l02x"
   },
   "outputs": [],
   "source": [
    "df1=df_hba.copy()"
   ]
  },
  {
   "cell_type": "code",
   "execution_count": 8,
   "metadata": {
    "id": "a-IqCgEPmVpX"
   },
   "outputs": [],
   "source": []
  },
  {
   "cell_type": "code",
   "execution_count": 8,
   "metadata": {
    "id": "xZcedmdLmVym"
   },
   "outputs": [],
   "source": []
  },
  {
   "cell_type": "markdown",
   "metadata": {
    "id": "YLmzb87rFLQ6"
   },
   "source": [
    "## **DATA PREPROCESING**"
   ]
  },
  {
   "cell_type": "markdown",
   "metadata": {
    "id": "_IwQpVpcFW1w"
   },
   "source": [
    "**Step-1: is to find out the null values present in this datasheet**"
   ]
  },
  {
   "cell_type": "code",
   "execution_count": 9,
   "metadata": {
    "colab": {
     "base_uri": "https://localhost:8080/"
    },
    "id": "t5-e9Wp1FUpB",
    "outputId": "4fa5da05-638b-41b2-b057-637fd576118f"
   },
   "outputs": [
    {
     "data": {
      "text/plain": [
       "company                           112593\n",
       "agent                              16340\n",
       "country                              488\n",
       "children                               4\n",
       "lead_time                              0\n",
       "arrival_date_year                      0\n",
       "arrival_date_month                     0\n",
       "arrival_date_week_number               0\n",
       "is_canceled                            0\n",
       "market_segment                         0\n",
       "arrival_date_day_of_month              0\n",
       "stays_in_weekend_nights                0\n",
       "stays_in_week_nights                   0\n",
       "adults                                 0\n",
       "babies                                 0\n",
       "meal                                   0\n",
       "reservation_status_date                0\n",
       "distribution_channel                   0\n",
       "reservation_status                     0\n",
       "is_repeated_guest                      0\n",
       "previous_cancellations                 0\n",
       "previous_bookings_not_canceled         0\n",
       "reserved_room_type                     0\n",
       "assigned_room_type                     0\n",
       "booking_changes                        0\n",
       "deposit_type                           0\n",
       "days_in_waiting_list                   0\n",
       "customer_type                          0\n",
       "adr                                    0\n",
       "required_car_parking_spaces            0\n",
       "total_of_special_requests              0\n",
       "hotel                                  0\n",
       "dtype: int64"
      ]
     },
     "execution_count": 9,
     "metadata": {
      "tags": []
     },
     "output_type": "execute_result"
    }
   ],
   "source": [
    "df1.isnull().sum().sort_values(ascending=False)[:]"
   ]
  },
  {
   "cell_type": "code",
   "execution_count": 9,
   "metadata": {
    "id": "69oejn3qouGa"
   },
   "outputs": [],
   "source": []
  },
  {
   "cell_type": "markdown",
   "metadata": {
    "id": "47IpS_DbIsZ1"
   },
   "source": [
    "\n",
    ">\"So we saw here that there are **total 4 columns** which **contains null values**.So we have to perform some action to them.\"\n",
    "\n",
    "\n",
    "\n",
    "\n"
   ]
  },
  {
   "cell_type": "markdown",
   "metadata": {
    "id": "jG83Z6_EG4c9"
   },
   "source": [
    ">\"**agent** and the **company** columns **contain id_numbers**.\n",
    "so for all the missing values, we will just **replace it with 0.**\n",
    "\n"
   ]
  },
  {
   "cell_type": "code",
   "execution_count": 10,
   "metadata": {
    "id": "S5of2P60HeTi"
   },
   "outputs": [],
   "source": [
    "df1[['agent','company']]=df1[['agent','company']].fillna(0.0)"
   ]
  },
  {
   "cell_type": "code",
   "execution_count": 10,
   "metadata": {
    "id": "VIrmuRmRogLu"
   },
   "outputs": [],
   "source": []
  },
  {
   "cell_type": "markdown",
   "metadata": {
    "id": "GhB81A1GJYok"
   },
   "source": [
    "> \"The column named **'country'** contains **country codes** representing different countries.\"\n",
    "* It is a categorical feature so We will also replace it with the **mode\n",
    "value**. \"mode value (country that appears the most often)\"\n",
    "\n"
   ]
  },
  {
   "cell_type": "code",
   "execution_count": 11,
   "metadata": {
    "id": "vTGxb1SMKNZP"
   },
   "outputs": [],
   "source": [
    "df1['country'].fillna(df_hba.country.mode().to_string(),inplace=True)"
   ]
  },
  {
   "cell_type": "code",
   "execution_count": 12,
   "metadata": {
    "colab": {
     "base_uri": "https://localhost:8080/"
    },
    "id": "dceP4ciJoh0V",
    "outputId": "6f046e91-c745-4a23-9712-8f776c2fca36"
   },
   "outputs": [
    {
     "data": {
      "text/plain": [
       "0         PRT\n",
       "1         PRT\n",
       "2         GBR\n",
       "3         GBR\n",
       "4         GBR\n",
       "         ... \n",
       "119385    BEL\n",
       "119386    FRA\n",
       "119387    DEU\n",
       "119388    GBR\n",
       "119389    DEU\n",
       "Name: country, Length: 119390, dtype: object"
      ]
     },
     "execution_count": 12,
     "metadata": {
      "tags": []
     },
     "output_type": "execute_result"
    }
   ],
   "source": [
    "df1['country']"
   ]
  },
  {
   "cell_type": "markdown",
   "metadata": {
    "id": "qR9y3Rv-IOgk"
   },
   "source": [
    "> \"The column named **'children'** contains the **count of children**,In this we will **replace** all the missing values with the **mean value rounded off.**\"\n",
    "\n"
   ]
  },
  {
   "cell_type": "code",
   "execution_count": 13,
   "metadata": {
    "id": "bQ2No3HPKTSC"
   },
   "outputs": [],
   "source": [
    "df1['children'].fillna(round(df_hba.children.mean()),inplace=True)"
   ]
  },
  {
   "cell_type": "code",
   "execution_count": null,
   "metadata": {
    "id": "xA_xb3g-oipz"
   },
   "outputs": [],
   "source": []
  },
  {
   "cell_type": "markdown",
   "metadata": {
    "id": "IOqSc5NTMiTm"
   },
   "source": [
    "\n",
    "\n",
    "> \"**Rows** that have **Zero guests** including adults, children and babies. These type of rows does not used in analysis.So we will **remove them.**\"\n",
    "\n",
    "\n"
   ]
  },
  {
   "cell_type": "code",
   "execution_count": 14,
   "metadata": {
    "colab": {
     "base_uri": "https://localhost:8080/"
    },
    "id": "5Ch4VNFRMp_7",
    "outputId": "5f84fb5b-2fb0-4c67-f2c8-f951347836e6"
   },
   "outputs": [
    {
     "data": {
      "text/plain": [
       "(180, 32)"
      ]
     },
     "execution_count": 14,
     "metadata": {
      "tags": []
     },
     "output_type": "execute_result"
    }
   ],
   "source": [
    "df1[(df1.children+df1.adults+df1.babies)==0].shape"
   ]
  },
  {
   "cell_type": "markdown",
   "metadata": {
    "id": "n7j0AJ4cOQkz"
   },
   "source": [
    "\n",
    "\n",
    "> Here We have **180 rows** .So we will just remove these rows.\n",
    "\n"
   ]
  },
  {
   "cell_type": "code",
   "execution_count": 15,
   "metadata": {
    "id": "sTacn9P6OajT"
   },
   "outputs": [],
   "source": [
    "# Drop Rows where there is no adult, baby and child"
   ]
  },
  {
   "cell_type": "code",
   "execution_count": 16,
   "metadata": {
    "id": "NyrMIcMPOdAI"
   },
   "outputs": [],
   "source": [
    "df1=df1.drop(df1[(df1.children+df1.adults+df1.babies)==0].index)"
   ]
  },
  {
   "cell_type": "markdown",
   "metadata": {
    "id": "HQ0VPeV6PiB8"
   },
   "source": [
    "**Step-2:Converting Datatype**"
   ]
  },
  {
   "cell_type": "code",
   "execution_count": 17,
   "metadata": {
    "colab": {
     "base_uri": "https://localhost:8080/"
    },
    "id": "Ln96ZX2JPsR-",
    "outputId": "e1cc4af0-930c-437a-82e0-3d3f60fb9dad"
   },
   "outputs": [
    {
     "data": {
      "text/plain": [
       "hotel                              object\n",
       "is_canceled                         int64\n",
       "lead_time                           int64\n",
       "arrival_date_year                   int64\n",
       "arrival_date_month                 object\n",
       "arrival_date_week_number            int64\n",
       "arrival_date_day_of_month           int64\n",
       "stays_in_weekend_nights             int64\n",
       "stays_in_week_nights                int64\n",
       "adults                              int64\n",
       "children                          float64\n",
       "babies                              int64\n",
       "meal                               object\n",
       "country                            object\n",
       "market_segment                     object\n",
       "distribution_channel               object\n",
       "is_repeated_guest                   int64\n",
       "previous_cancellations              int64\n",
       "previous_bookings_not_canceled      int64\n",
       "reserved_room_type                 object\n",
       "assigned_room_type                 object\n",
       "booking_changes                     int64\n",
       "deposit_type                       object\n",
       "agent                             float64\n",
       "company                           float64\n",
       "days_in_waiting_list                int64\n",
       "customer_type                      object\n",
       "adr                               float64\n",
       "required_car_parking_spaces         int64\n",
       "total_of_special_requests           int64\n",
       "reservation_status                 object\n",
       "reservation_status_date            object\n",
       "dtype: object"
      ]
     },
     "execution_count": 17,
     "metadata": {
      "tags": []
     },
     "output_type": "execute_result"
    }
   ],
   "source": [
    "df1.dtypes"
   ]
  },
  {
   "cell_type": "markdown",
   "metadata": {
    "id": "ItxyooTSP8IK"
   },
   "source": [
    "\n",
    "\n",
    "> \"There are some **columns** like **children, company and agent**\n",
    "that are **float type** but their values are only in integers.\n",
    "So we will **convert them to the integer type.**\"\n",
    "\n"
   ]
  },
  {
   "cell_type": "code",
   "execution_count": 18,
   "metadata": {
    "id": "E_RBLS2wQYSs"
   },
   "outputs": [],
   "source": [
    "#convert datatype of these columns from float to integer"
   ]
  },
  {
   "cell_type": "code",
   "execution_count": 19,
   "metadata": {
    "id": "nU8p4yaoQiNp"
   },
   "outputs": [],
   "source": [
    "df1[['children','company','agent']]=df1[['children','company','agent']].astype('int64')"
   ]
  },
  {
   "cell_type": "markdown",
   "metadata": {
    "id": "RtFKtgtzRPvH"
   },
   "source": [
    "## **Exploratory Data Analysis**"
   ]
  },
  {
   "cell_type": "markdown",
   "metadata": {
    "id": "k-d1DyauRVoT"
   },
   "source": [
    "**Now We will try to execute each of our step to get the information from our data and try to get the result.**"
   ]
  },
  {
   "cell_type": "markdown",
   "metadata": {
    "id": "eK0jiPRFRc5R"
   },
   "source": [
    "\n",
    "\n",
    "**A.We will find out how many total number of Bookings were cancelled**\n",
    "\n"
   ]
  },
  {
   "cell_type": "markdown",
   "metadata": {
    "id": "xmBLmYgYRlM2"
   },
   "source": [
    "\"Let’s write the function to get the percentage of different values.\"         \n",
    "\"This function takes a series or data frame column and returns the two arrays.\""
   ]
  },
  {
   "cell_type": "code",
   "execution_count": 20,
   "metadata": {
    "id": "p6-OYlklRqYH"
   },
   "outputs": [],
   "source": [
    "def get_count(series, limit=None):\n",
    "    \n",
    "    '''\n",
    "    INPUT:\n",
    "        series: Pandas Series (Single Column from DataFrame)\n",
    "        limit:  If value given, limit the output value to first limit samples.\n",
    "    OUTPUT:\n",
    "        x = Unique values\n",
    "        y = Count of unique values\n",
    "    '''\n",
    "    \n",
    "    if limit != None:\n",
    "        series = series.value_counts()[:limit]\n",
    "    else:\n",
    "        series = series.value_counts()\n",
    "    \n",
    "    x = series.index\n",
    "    y = series/series.sum()*100\n",
    "    \n",
    "    return x.values,y.values"
   ]
  },
  {
   "cell_type": "code",
   "execution_count": 21,
   "metadata": {
    "id": "VUrJFT11pQZA"
   },
   "outputs": [],
   "source": [
    "# x is our unique values\n",
    "# y is the percentage value of each unique value"
   ]
  },
  {
   "cell_type": "markdown",
   "metadata": {
    "id": "HmJrfsDMpTme"
   },
   "source": [
    "\"Now let’s use this function on our **is_canceled feature** and see the result\"."
   ]
  },
  {
   "cell_type": "code",
   "execution_count": 22,
   "metadata": {
    "id": "rQyO8lv-tGVw"
   },
   "outputs": [],
   "source": [
    "x,y = get_count(df1['is_canceled'])"
   ]
  },
  {
   "cell_type": "code",
   "execution_count": 23,
   "metadata": {
    "colab": {
     "base_uri": "https://localhost:8080/"
    },
    "id": "8Dxgvy0stPMa",
    "outputId": "0e8bb272-0aef-4210-f784-3ee8cb596f9c"
   },
   "outputs": [
    {
     "data": {
      "text/plain": [
       "(array([0, 1]), array([62.92341247, 37.07658753]))"
      ]
     },
     "execution_count": 23,
     "metadata": {
      "tags": []
     },
     "output_type": "execute_result"
    }
   ],
   "source": [
    "x,y"
   ]
  },
  {
   "cell_type": "markdown",
   "metadata": {
    "id": "eMK8mdabtVr4"
   },
   "source": [
    "**is_canceled** will have two unique values:**1 if booking got canceled, else 0**"
   ]
  },
  {
   "cell_type": "markdown",
   "metadata": {
    "id": "tDIRylEmtbVR"
   },
   "source": [
    "\"ploting bar chart using seaborn\""
   ]
  },
  {
   "cell_type": "code",
   "execution_count": 24,
   "metadata": {
    "colab": {
     "base_uri": "https://localhost:8080/",
     "height": 404
    },
    "id": "eMwhNjPb1ead",
    "outputId": "814d86cd-d9a6-45c7-a0fe-1392da63b0c0"
   },
   "outputs": [
    {
     "name": "stderr",
     "output_type": "stream",
     "text": [
      "/usr/local/lib/python3.7/dist-packages/seaborn/_decorators.py:43: FutureWarning: Pass the following variables as keyword args: x, y. From version 0.12, the only valid positional argument will be `data`, and passing other arguments without an explicit keyword will result in an error or misinterpretation.\n",
      "  FutureWarning\n"
     ]
    },
    {
     "data": {
      "image/png": "[encoded data removed]",
      "text/plain": [
       "<Figure size 504x360 with 1 Axes>"
      ]
     },
     "metadata": {
      "needs_background": "light",
      "tags": []
     },
     "output_type": "display_data"
    }
   ],
   "source": [
    "plt.figure(figsize=(7,5))\n",
    "sns.barplot(x,y)\n",
    "plt.xlabel('Booking Cancelled (No = 0, Yes = 1)')\n",
    "plt.ylabel('Booking (%)')\n",
    "plt.title('Canceled vs not canceled ratio')\n",
    "\n",
    "\n",
    "plt.show()\n"
   ]
  },
  {
   "cell_type": "markdown",
   "metadata": {
    "id": "MeSbnVrRuqxJ"
   },
   "source": [
    "\n",
    "> \"**Bookings got canceled 37% of the time. While booking guest did checkd-in (did not cancel the booking ) almost 63% of the time.**\"\n",
    "\n"
   ]
  },
  {
   "cell_type": "markdown",
   "metadata": {
    "id": "KKxXvc0WutMh"
   },
   "source": [
    "\"For further analysis, We will select only those bookings which did not get canceled\""
   ]
  },
  {
   "cell_type": "code",
   "execution_count": 25,
   "metadata": {
    "id": "yedF2-nQvBey"
   },
   "outputs": [],
   "source": [
    "df_not_canceled = df1[df1['is_canceled'] == 0]"
   ]
  },
  {
   "cell_type": "code",
   "execution_count": 26,
   "metadata": {
    "colab": {
     "base_uri": "https://localhost:8080/",
     "height": 605
    },
    "id": "4zTmYsX6vCHZ",
    "outputId": "0ef03a60-8a75-4142-8fe1-b2e69c31fce9"
   },
   "outputs": [
    {
     "data": {
      "text/html": [
       "<div>\n",
       "<style scoped>\n",
       "    .dataframe tbody tr th:only-of-type {\n",
       "        vertical-align: middle;\n",
       "    }\n",
       "\n",
       "    .dataframe tbody tr th {\n",
       "        vertical-align: top;\n",
       "    }\n",
       "\n",
       "    .dataframe thead th {\n",
       "        text-align: right;\n",
       "    }\n",
       "</style>\n",
       "<table border=\"1\" class=\"dataframe\">\n",
       "  <thead>\n",
       "    <tr style=\"text-align: right;\">\n",
       "      <th></th>\n",
       "      <th>hotel</th>\n",
       "      <th>is_canceled</th>\n",
       "      <th>lead_time</th>\n",
       "      <th>arrival_date_year</th>\n",
       "      <th>arrival_date_month</th>\n",
       "      <th>arrival_date_week_number</th>\n",
       "      <th>arrival_date_day_of_month</th>\n",
       "      <th>stays_in_weekend_nights</th>\n",
       "      <th>stays_in_week_nights</th>\n",
       "      <th>adults</th>\n",
       "      <th>children</th>\n",
       "      <th>babies</th>\n",
       "      <th>meal</th>\n",
       "      <th>country</th>\n",
       "      <th>market_segment</th>\n",
       "      <th>distribution_channel</th>\n",
       "      <th>is_repeated_guest</th>\n",
       "      <th>previous_cancellations</th>\n",
       "      <th>previous_bookings_not_canceled</th>\n",
       "      <th>reserved_room_type</th>\n",
       "      <th>assigned_room_type</th>\n",
       "      <th>booking_changes</th>\n",
       "      <th>deposit_type</th>\n",
       "      <th>agent</th>\n",
       "      <th>company</th>\n",
       "      <th>days_in_waiting_list</th>\n",
       "      <th>customer_type</th>\n",
       "      <th>adr</th>\n",
       "      <th>required_car_parking_spaces</th>\n",
       "      <th>total_of_special_requests</th>\n",
       "      <th>reservation_status</th>\n",
       "      <th>reservation_status_date</th>\n",
       "    </tr>\n",
       "  </thead>\n",
       "  <tbody>\n",
       "    <tr>\n",
       "      <th>0</th>\n",
       "      <td>Resort Hotel</td>\n",
       "      <td>0</td>\n",
       "      <td>342</td>\n",
       "      <td>2015</td>\n",
       "      <td>July</td>\n",
       "      <td>27</td>\n",
       "      <td>1</td>\n",
       "      <td>0</td>\n",
       "      <td>0</td>\n",
       "      <td>2</td>\n",
       "      <td>0</td>\n",
       "      <td>0</td>\n",
       "      <td>BB</td>\n",
       "      <td>PRT</td>\n",
       "      <td>Direct</td>\n",
       "      <td>Direct</td>\n",
       "      <td>0</td>\n",
       "      <td>0</td>\n",
       "      <td>0</td>\n",
       "      <td>C</td>\n",
       "      <td>C</td>\n",
       "      <td>3</td>\n",
       "      <td>No Deposit</td>\n",
       "      <td>0</td>\n",
       "      <td>0</td>\n",
       "      <td>0</td>\n",
       "      <td>Transient</td>\n",
       "      <td>0.00</td>\n",
       "      <td>0</td>\n",
       "      <td>0</td>\n",
       "      <td>Check-Out</td>\n",
       "      <td>2015-07-01</td>\n",
       "    </tr>\n",
       "    <tr>\n",
       "      <th>1</th>\n",
       "      <td>Resort Hotel</td>\n",
       "      <td>0</td>\n",
       "      <td>737</td>\n",
       "      <td>2015</td>\n",
       "      <td>July</td>\n",
       "      <td>27</td>\n",
       "      <td>1</td>\n",
       "      <td>0</td>\n",
       "      <td>0</td>\n",
       "      <td>2</td>\n",
       "      <td>0</td>\n",
       "      <td>0</td>\n",
       "      <td>BB</td>\n",
       "      <td>PRT</td>\n",
       "      <td>Direct</td>\n",
       "      <td>Direct</td>\n",
       "      <td>0</td>\n",
       "      <td>0</td>\n",
       "      <td>0</td>\n",
       "      <td>C</td>\n",
       "      <td>C</td>\n",
       "      <td>4</td>\n",
       "      <td>No Deposit</td>\n",
       "      <td>0</td>\n",
       "      <td>0</td>\n",
       "      <td>0</td>\n",
       "      <td>Transient</td>\n",
       "      <td>0.00</td>\n",
       "      <td>0</td>\n",
       "      <td>0</td>\n",
       "      <td>Check-Out</td>\n",
       "      <td>2015-07-01</td>\n",
       "    </tr>\n",
       "    <tr>\n",
       "      <th>2</th>\n",
       "      <td>Resort Hotel</td>\n",
       "      <td>0</td>\n",
       "      <td>7</td>\n",
       "      <td>2015</td>\n",
       "      <td>July</td>\n",
       "      <td>27</td>\n",
       "      <td>1</td>\n",
       "      <td>0</td>\n",
       "      <td>1</td>\n",
       "      <td>1</td>\n",
       "      <td>0</td>\n",
       "      <td>0</td>\n",
       "      <td>BB</td>\n",
       "      <td>GBR</td>\n",
       "      <td>Direct</td>\n",
       "      <td>Direct</td>\n",
       "      <td>0</td>\n",
       "      <td>0</td>\n",
       "      <td>0</td>\n",
       "      <td>A</td>\n",
       "      <td>C</td>\n",
       "      <td>0</td>\n",
       "      <td>No Deposit</td>\n",
       "      <td>0</td>\n",
       "      <td>0</td>\n",
       "      <td>0</td>\n",
       "      <td>Transient</td>\n",
       "      <td>75.00</td>\n",
       "      <td>0</td>\n",
       "      <td>0</td>\n",
       "      <td>Check-Out</td>\n",
       "      <td>2015-07-02</td>\n",
       "    </tr>\n",
       "    <tr>\n",
       "      <th>3</th>\n",
       "      <td>Resort Hotel</td>\n",
       "      <td>0</td>\n",
       "      <td>13</td>\n",
       "      <td>2015</td>\n",
       "      <td>July</td>\n",
       "      <td>27</td>\n",
       "      <td>1</td>\n",
       "      <td>0</td>\n",
       "      <td>1</td>\n",
       "      <td>1</td>\n",
       "      <td>0</td>\n",
       "      <td>0</td>\n",
       "      <td>BB</td>\n",
       "      <td>GBR</td>\n",
       "      <td>Corporate</td>\n",
       "      <td>Corporate</td>\n",
       "      <td>0</td>\n",
       "      <td>0</td>\n",
       "      <td>0</td>\n",
       "      <td>A</td>\n",
       "      <td>A</td>\n",
       "      <td>0</td>\n",
       "      <td>No Deposit</td>\n",
       "      <td>304</td>\n",
       "      <td>0</td>\n",
       "      <td>0</td>\n",
       "      <td>Transient</td>\n",
       "      <td>75.00</td>\n",
       "      <td>0</td>\n",
       "      <td>0</td>\n",
       "      <td>Check-Out</td>\n",
       "      <td>2015-07-02</td>\n",
       "    </tr>\n",
       "    <tr>\n",
       "      <th>4</th>\n",
       "      <td>Resort Hotel</td>\n",
       "      <td>0</td>\n",
       "      <td>14</td>\n",
       "      <td>2015</td>\n",
       "      <td>July</td>\n",
       "      <td>27</td>\n",
       "      <td>1</td>\n",
       "      <td>0</td>\n",
       "      <td>2</td>\n",
       "      <td>2</td>\n",
       "      <td>0</td>\n",
       "      <td>0</td>\n",
       "      <td>BB</td>\n",
       "      <td>GBR</td>\n",
       "      <td>Online TA</td>\n",
       "      <td>TA/TO</td>\n",
       "      <td>0</td>\n",
       "      <td>0</td>\n",
       "      <td>0</td>\n",
       "      <td>A</td>\n",
       "      <td>A</td>\n",
       "      <td>0</td>\n",
       "      <td>No Deposit</td>\n",
       "      <td>240</td>\n",
       "      <td>0</td>\n",
       "      <td>0</td>\n",
       "      <td>Transient</td>\n",
       "      <td>98.00</td>\n",
       "      <td>0</td>\n",
       "      <td>1</td>\n",
       "      <td>Check-Out</td>\n",
       "      <td>2015-07-03</td>\n",
       "    </tr>\n",
       "    <tr>\n",
       "      <th>...</th>\n",
       "      <td>...</td>\n",
       "      <td>...</td>\n",
       "      <td>...</td>\n",
       "      <td>...</td>\n",
       "      <td>...</td>\n",
       "      <td>...</td>\n",
       "      <td>...</td>\n",
       "      <td>...</td>\n",
       "      <td>...</td>\n",
       "      <td>...</td>\n",
       "      <td>...</td>\n",
       "      <td>...</td>\n",
       "      <td>...</td>\n",
       "      <td>...</td>\n",
       "      <td>...</td>\n",
       "      <td>...</td>\n",
       "      <td>...</td>\n",
       "      <td>...</td>\n",
       "      <td>...</td>\n",
       "      <td>...</td>\n",
       "      <td>...</td>\n",
       "      <td>...</td>\n",
       "      <td>...</td>\n",
       "      <td>...</td>\n",
       "      <td>...</td>\n",
       "      <td>...</td>\n",
       "      <td>...</td>\n",
       "      <td>...</td>\n",
       "      <td>...</td>\n",
       "      <td>...</td>\n",
       "      <td>...</td>\n",
       "      <td>...</td>\n",
       "    </tr>\n",
       "    <tr>\n",
       "      <th>119385</th>\n",
       "      <td>City Hotel</td>\n",
       "      <td>0</td>\n",
       "      <td>23</td>\n",
       "      <td>2017</td>\n",
       "      <td>August</td>\n",
       "      <td>35</td>\n",
       "      <td>30</td>\n",
       "      <td>2</td>\n",
       "      <td>5</td>\n",
       "      <td>2</td>\n",
       "      <td>0</td>\n",
       "      <td>0</td>\n",
       "      <td>BB</td>\n",
       "      <td>BEL</td>\n",
       "      <td>Offline TA/TO</td>\n",
       "      <td>TA/TO</td>\n",
       "      <td>0</td>\n",
       "      <td>0</td>\n",
       "      <td>0</td>\n",
       "      <td>A</td>\n",
       "      <td>A</td>\n",
       "      <td>0</td>\n",
       "      <td>No Deposit</td>\n",
       "      <td>394</td>\n",
       "      <td>0</td>\n",
       "      <td>0</td>\n",
       "      <td>Transient</td>\n",
       "      <td>96.14</td>\n",
       "      <td>0</td>\n",
       "      <td>0</td>\n",
       "      <td>Check-Out</td>\n",
       "      <td>2017-09-06</td>\n",
       "    </tr>\n",
       "    <tr>\n",
       "      <th>119386</th>\n",
       "      <td>City Hotel</td>\n",
       "      <td>0</td>\n",
       "      <td>102</td>\n",
       "      <td>2017</td>\n",
       "      <td>August</td>\n",
       "      <td>35</td>\n",
       "      <td>31</td>\n",
       "      <td>2</td>\n",
       "      <td>5</td>\n",
       "      <td>3</td>\n",
       "      <td>0</td>\n",
       "      <td>0</td>\n",
       "      <td>BB</td>\n",
       "      <td>FRA</td>\n",
       "      <td>Online TA</td>\n",
       "      <td>TA/TO</td>\n",
       "      <td>0</td>\n",
       "      <td>0</td>\n",
       "      <td>0</td>\n",
       "      <td>E</td>\n",
       "      <td>E</td>\n",
       "      <td>0</td>\n",
       "      <td>No Deposit</td>\n",
       "      <td>9</td>\n",
       "      <td>0</td>\n",
       "      <td>0</td>\n",
       "      <td>Transient</td>\n",
       "      <td>225.43</td>\n",
       "      <td>0</td>\n",
       "      <td>2</td>\n",
       "      <td>Check-Out</td>\n",
       "      <td>2017-09-07</td>\n",
       "    </tr>\n",
       "    <tr>\n",
       "      <th>119387</th>\n",
       "      <td>City Hotel</td>\n",
       "      <td>0</td>\n",
       "      <td>34</td>\n",
       "      <td>2017</td>\n",
       "      <td>August</td>\n",
       "      <td>35</td>\n",
       "      <td>31</td>\n",
       "      <td>2</td>\n",
       "      <td>5</td>\n",
       "      <td>2</td>\n",
       "      <td>0</td>\n",
       "      <td>0</td>\n",
       "      <td>BB</td>\n",
       "      <td>DEU</td>\n",
       "      <td>Online TA</td>\n",
       "      <td>TA/TO</td>\n",
       "      <td>0</td>\n",
       "      <td>0</td>\n",
       "      <td>0</td>\n",
       "      <td>D</td>\n",
       "      <td>D</td>\n",
       "      <td>0</td>\n",
       "      <td>No Deposit</td>\n",
       "      <td>9</td>\n",
       "      <td>0</td>\n",
       "      <td>0</td>\n",
       "      <td>Transient</td>\n",
       "      <td>157.71</td>\n",
       "      <td>0</td>\n",
       "      <td>4</td>\n",
       "      <td>Check-Out</td>\n",
       "      <td>2017-09-07</td>\n",
       "    </tr>\n",
       "    <tr>\n",
       "      <th>119388</th>\n",
       "      <td>City Hotel</td>\n",
       "      <td>0</td>\n",
       "      <td>109</td>\n",
       "      <td>2017</td>\n",
       "      <td>August</td>\n",
       "      <td>35</td>\n",
       "      <td>31</td>\n",
       "      <td>2</td>\n",
       "      <td>5</td>\n",
       "      <td>2</td>\n",
       "      <td>0</td>\n",
       "      <td>0</td>\n",
       "      <td>BB</td>\n",
       "      <td>GBR</td>\n",
       "      <td>Online TA</td>\n",
       "      <td>TA/TO</td>\n",
       "      <td>0</td>\n",
       "      <td>0</td>\n",
       "      <td>0</td>\n",
       "      <td>A</td>\n",
       "      <td>A</td>\n",
       "      <td>0</td>\n",
       "      <td>No Deposit</td>\n",
       "      <td>89</td>\n",
       "      <td>0</td>\n",
       "      <td>0</td>\n",
       "      <td>Transient</td>\n",
       "      <td>104.40</td>\n",
       "      <td>0</td>\n",
       "      <td>0</td>\n",
       "      <td>Check-Out</td>\n",
       "      <td>2017-09-07</td>\n",
       "    </tr>\n",
       "    <tr>\n",
       "      <th>119389</th>\n",
       "      <td>City Hotel</td>\n",
       "      <td>0</td>\n",
       "      <td>205</td>\n",
       "      <td>2017</td>\n",
       "      <td>August</td>\n",
       "      <td>35</td>\n",
       "      <td>29</td>\n",
       "      <td>2</td>\n",
       "      <td>7</td>\n",
       "      <td>2</td>\n",
       "      <td>0</td>\n",
       "      <td>0</td>\n",
       "      <td>HB</td>\n",
       "      <td>DEU</td>\n",
       "      <td>Online TA</td>\n",
       "      <td>TA/TO</td>\n",
       "      <td>0</td>\n",
       "      <td>0</td>\n",
       "      <td>0</td>\n",
       "      <td>A</td>\n",
       "      <td>A</td>\n",
       "      <td>0</td>\n",
       "      <td>No Deposit</td>\n",
       "      <td>9</td>\n",
       "      <td>0</td>\n",
       "      <td>0</td>\n",
       "      <td>Transient</td>\n",
       "      <td>151.20</td>\n",
       "      <td>0</td>\n",
       "      <td>2</td>\n",
       "      <td>Check-Out</td>\n",
       "      <td>2017-09-07</td>\n",
       "    </tr>\n",
       "  </tbody>\n",
       "</table>\n",
       "<p>75011 rows × 32 columns</p>\n",
       "</div>"
      ],
      "text/plain": [
       "               hotel  is_canceled  ...  reservation_status  reservation_status_date\n",
       "0       Resort Hotel            0  ...           Check-Out               2015-07-01\n",
       "1       Resort Hotel            0  ...           Check-Out               2015-07-01\n",
       "2       Resort Hotel            0  ...           Check-Out               2015-07-02\n",
       "3       Resort Hotel            0  ...           Check-Out               2015-07-02\n",
       "4       Resort Hotel            0  ...           Check-Out               2015-07-03\n",
       "...              ...          ...  ...                 ...                      ...\n",
       "119385    City Hotel            0  ...           Check-Out               2017-09-06\n",
       "119386    City Hotel            0  ...           Check-Out               2017-09-07\n",
       "119387    City Hotel            0  ...           Check-Out               2017-09-07\n",
       "119388    City Hotel            0  ...           Check-Out               2017-09-07\n",
       "119389    City Hotel            0  ...           Check-Out               2017-09-07\n",
       "\n",
       "[75011 rows x 32 columns]"
      ]
     },
     "execution_count": 26,
     "metadata": {
      "tags": []
     },
     "output_type": "execute_result"
    }
   ],
   "source": [
    "df_not_canceled"
   ]
  },
  {
   "cell_type": "markdown",
   "metadata": {
    "id": "8Dyf0MYMdgsg"
   },
   "source": [
    "Which Hotel has most Cancellations"
   ]
  },
  {
   "cell_type": "code",
   "execution_count": 27,
   "metadata": {
    "id": "Hg4_vPpMdZOz"
   },
   "outputs": [],
   "source": [
    "# df1.hotel['is_canceled'==0]\n",
    "# df2=dff.groupby('hotel')['is_canceled'].count()\n",
    "# df2"
   ]
  },
  {
   "cell_type": "markdown",
   "metadata": {
    "id": "YCMbKLl_0_SH"
   },
   "source": [
    "\n",
    "**B.Now we will find the \"Booking Ratio\" between City Hotel and Resort Hotel**\n",
    "\n"
   ]
  },
  {
   "cell_type": "code",
   "execution_count": 28,
   "metadata": {
    "id": "WMWIP7k2vEpU"
   },
   "outputs": [],
   "source": [
    "x,y = get_count(df_not_canceled['hotel'])"
   ]
  },
  {
   "cell_type": "code",
   "execution_count": 29,
   "metadata": {
    "colab": {
     "base_uri": "https://localhost:8080/",
     "height": 404
    },
    "id": "uXfCCTosSX4j",
    "outputId": "348f982b-84de-40fd-ad58-ea69ef297ab9"
   },
   "outputs": [
    {
     "name": "stderr",
     "output_type": "stream",
     "text": [
      "/usr/local/lib/python3.7/dist-packages/seaborn/_decorators.py:43: FutureWarning: Pass the following variables as keyword args: x, y. From version 0.12, the only valid positional argument will be `data`, and passing other arguments without an explicit keyword will result in an error or misinterpretation.\n",
      "  FutureWarning\n"
     ]
    },
    {
     "data": {
      "image/png": "[encoded data removed]",
      "text/plain": [
       "<Figure size 504x360 with 1 Axes>"
      ]
     },
     "metadata": {
      "needs_background": "light",
      "tags": []
     },
     "output_type": "display_data"
    }
   ],
   "source": [
    "plt.figure(figsize=(7,5))\n",
    "sns.barplot(x,y)\n",
    "plt.xlabel('Hotels')\n",
    "plt.ylabel('Total Booking (%)')\n",
    "plt.title('Hotel comparison')\n",
    "\n",
    "\n",
    "plt.show()"
   ]
  },
  {
   "cell_type": "markdown",
   "metadata": {
    "id": "GSsn-hw4Surx"
   },
   "source": [
    "\n",
    ">**\"More than 60% of the population booked the City hotel\"**\n",
    "\n",
    "\n",
    "\n",
    "\n"
   ]
  },
  {
   "cell_type": "markdown",
   "metadata": {
    "id": "kNtrKSRQBssm"
   },
   "source": [
    "\n",
    "\n",
    "\n",
    "**C. Finding Hotel Booking Pecentage for Each Year**\n",
    "\n"
   ]
  },
  {
   "cell_type": "code",
   "execution_count": 30,
   "metadata": {
    "id": "JTeJZavqB8Uc"
   },
   "outputs": [],
   "source": [
    "x,y = get_count(df_not_canceled['arrival_date_year'])"
   ]
  },
  {
   "cell_type": "code",
   "execution_count": 31,
   "metadata": {
    "colab": {
     "base_uri": "https://localhost:8080/",
     "height": 404
    },
    "id": "iI8qdY9WTYvm",
    "outputId": "a0038dd1-0a9b-4828-8bbe-5c6f035accf1"
   },
   "outputs": [
    {
     "name": "stderr",
     "output_type": "stream",
     "text": [
      "/usr/local/lib/python3.7/dist-packages/seaborn/_decorators.py:43: FutureWarning: Pass the following variables as keyword args: x, y. From version 0.12, the only valid positional argument will be `data`, and passing other arguments without an explicit keyword will result in an error or misinterpretation.\n",
      "  FutureWarning\n"
     ]
    },
    {
     "data": {
      "image/png": "[encoded data removed]",
      "text/plain": [
       "<Figure size 504x360 with 1 Axes>"
      ]
     },
     "metadata": {
      "needs_background": "light",
      "tags": []
     },
     "output_type": "display_data"
    }
   ],
   "source": [
    "plt.figure(figsize=(7,5))\n",
    "sns.barplot(x,y)\n",
    "plt.xlabel('Year')\n",
    "plt.ylabel('Total Booking (%)')\n",
    "plt.title('Year comparison')\n",
    "\n",
    "\n",
    "plt.show()"
   ]
  },
  {
   "cell_type": "markdown",
   "metadata": {
    "id": "jgDxtO1wT6Mv"
   },
   "source": [
    "\n",
    "\n",
    "> **\"More than double bookings were made in 2016, compared to the previous year. \n",
    "But the bookings decreased by almost 15% the next year.\"**\n",
    "\n"
   ]
  },
  {
   "cell_type": "markdown",
   "metadata": {
    "id": "ZVbOzdYnCWry"
   },
   "source": [
    "\n",
    "\n",
    "> **Let’s separate it by the hotel and then plot the diagram**\n",
    "\n"
   ]
  },
  {
   "cell_type": "code",
   "execution_count": 32,
   "metadata": {
    "colab": {
     "base_uri": "https://localhost:8080/",
     "height": 335
    },
    "id": "mLNrin4eCKaU",
    "outputId": "3e0d5e3b-cd51-4029-cb33-fd3dc237b8a4"
   },
   "outputs": [
    {
     "data": {
      "image/png": "[encoded data removed]",
      "text/plain": [
       "<Figure size 504x360 with 1 Axes>"
      ]
     },
     "metadata": {
      "needs_background": "light",
      "tags": []
     },
     "output_type": "display_data"
    }
   ],
   "source": [
    "plt.subplots(figsize=(7,5))\n",
    "sns.countplot(x='arrival_date_year', hue='hotel',  data=df_not_canceled);"
   ]
  },
  {
   "cell_type": "markdown",
   "metadata": {
    "id": "sy2Q8wkKDBkz"
   },
   "source": [
    "**D.Now We'll try to get busiest month for the Hotels**"
   ]
  },
  {
   "cell_type": "code",
   "execution_count": 33,
   "metadata": {
    "colab": {
     "base_uri": "https://localhost:8080/",
     "height": 354
    },
    "id": "LoiUdlBmDPGZ",
    "outputId": "022baab4-349d-4848-e41b-aa72868af1ab"
   },
   "outputs": [
    {
     "data": {
      "text/plain": [
       "Text(0, 0.5, 'Count')"
      ]
     },
     "execution_count": 33,
     "metadata": {
      "tags": []
     },
     "output_type": "execute_result"
    },
    {
     "data": {
      "image/png": "[encoded data removed]",
      "text/plain": [
       "<Figure size 1440x360 with 1 Axes>"
      ]
     },
     "metadata": {
      "needs_background": "light",
      "tags": []
     },
     "output_type": "display_data"
    }
   ],
   "source": [
    "period_arrival = df1[['hotel', 'arrival_date_year', 'arrival_date_month','arrival_date_day_of_month']]\n",
    "plt.figure(figsize=(20,5))\n",
    "\n",
    "sns.countplot(data = period_arrival, x = 'arrival_date_month', hue = 'hotel', order = ['January', 'February', 'March', 'April', 'May', 'June', 'July',\n",
    "          'August', 'September', 'October', 'November', 'December']).set_title('Graph showing number of arrival per month',fontsize=20)\n",
    "plt.xlabel('Month')\n",
    "plt.ylabel('Count')"
   ]
  },
  {
   "cell_type": "markdown",
   "metadata": {
    "id": "iXs-ZKPED9em"
   },
   "source": [
    "**So what we see?**\n",
    "\n",
    "\n",
    "> **we can see that 2016 seems to be the year where hotel booking is at its highest. We also see an increasing trend in booking around the middle of the year, with August being the highest. Summer ends around August, followed straight by autumn. It seems that summer period is a peak period for hotel booking.\n",
    "We do notice a roller coaster trend for the arrival day of month. **\n",
    "\n",
    "\n",
    "\n",
    "\n"
   ]
  },
  {
   "cell_type": "markdown",
   "metadata": {
    "id": "Sk71Be-xEGEf"
   },
   "source": [
    "\n",
    "**E.Let's find out the country From which we get most number of guests.**"
   ]
  },
  {
   "cell_type": "code",
   "execution_count": 34,
   "metadata": {
    "colab": {
     "base_uri": "https://localhost:8080/"
    },
    "id": "EurYcK43MXiV",
    "outputId": "51742c17-c79b-48b2-aa48-687a2c3b0ab6"
   },
   "outputs": [
    {
     "data": {
      "text/plain": [
       "PRT    48483\n",
       "GBR    12120\n",
       "FRA    10401\n",
       "ESP     8560\n",
       "DEU     7285\n",
       "ITA     3761\n",
       "IRL     3374\n",
       "BEL     2342\n",
       "BRA     2222\n",
       "NLD     2103\n",
       "Name: country, dtype: int64"
      ]
     },
     "execution_count": 34,
     "metadata": {
      "tags": []
     },
     "output_type": "execute_result"
    }
   ],
   "source": [
    "df1['country'].value_counts().head(10)"
   ]
  },
  {
   "cell_type": "markdown",
   "metadata": {
    "id": "TGKbBqjnae5P"
   },
   "source": [
    "Making a data frame containing rows with top 10 countries only."
   ]
  },
  {
   "cell_type": "code",
   "execution_count": 35,
   "metadata": {
    "id": "FJGDsSYRajog"
   },
   "outputs": [],
   "source": [
    "top10 = df1[df1['country'].isin([\"PRT\",\"GBR\",\"FRA\",\"ESP\",\"DEU\",\"ITA\",\"IRL\",\n",
    "                         \"BEL\",\"BRA\",\"NLD\"])]"
   ]
  },
  {
   "cell_type": "markdown",
   "metadata": {
    "id": "b7Ur-RCpaos8"
   },
   "source": [
    "Plotting the bar plot of top 10 countries.\n"
   ]
  },
  {
   "cell_type": "code",
   "execution_count": 36,
   "metadata": {
    "colab": {
     "base_uri": "https://localhost:8080/",
     "height": 279
    },
    "id": "83r2z9WWavow",
    "outputId": "8a879746-6f5d-4a6e-fb9f-b75fde17a39f"
   },
   "outputs": [
    {
     "data": {
      "image/png": "[encoded data removed]",
      "text/plain": [
       "<Figure size 1440x288 with 1 Axes>"
      ]
     },
     "metadata": {
      "needs_background": "light",
      "tags": []
     },
     "output_type": "display_data"
    }
   ],
   "source": [
    "plt.figure(figsize=(20,4))\n",
    "sns.countplot(x='country', hue = 'hotel', data= top10)\n",
    "plt.title('People from top travelling countries')\n",
    "plt.show()"
   ]
  },
  {
   "cell_type": "code",
   "execution_count": 39,
   "metadata": {
    "colab": {
     "base_uri": "https://localhost:8080/",
     "height": 542
    },
    "id": "FN7PHzjZbA83",
    "outputId": "339b6f05-44ad-402d-f988-a909a7a4be11"
   },
   "outputs": [
    {
     "data": {
      "text/html": [
       "<html>\n",
       "<head><meta charset=\"utf-8\" /></head>\n",
       "<body>\n",
       "    <div>\n",
       "            <script src=\"https://cdnjs.cloudflare.com/ajax/libs/mathjax/2.7.5/MathJax.js?config=TeX-AMS-MML_SVG\"></script><script type=\"text/javascript\">if (window.MathJax) {MathJax.Hub.Config({SVG: {font: \"STIX-Web\"}});}</script>\n",
       "                <script type=\"text/javascript\">window.PlotlyConfig = {MathJaxConfig: 'local'};</script>\n",
       "        <script src=\"https://cdn.plot.ly/plotly-latest.min.js\"></script>    \n",
       "            <div id=\"fc048dbb-5aac-4f90-9e1c-8c4090465ec3\" class=\"plotly-graph-div\" style=\"height:525px; width:100%;\"></div>\n",
       "            <script type=\"text/javascript\">\n",
       "                \n",
       "                    window.PLOTLYENV=window.PLOTLYENV || {};\n",
       "                    \n",
       "                if (document.getElementById(\"fc048dbb-5aac-4f90-9e1c-8c4090465ec3\")) {\n",
       "                    Plotly.newPlot(\n",
       "                        'fc048dbb-5aac-4f90-9e1c-8c4090465ec3',\n",
       "                        [{\"coloraxis\": \"coloraxis\", \"geo\": \"geo\", \"hoverlabel\": {\"namelength\": 0}, \"hovertemplate\": \"<b>%{hovertext}</b><br><br>country=%{location}<br>color=%{z}\", \"hovertext\": [\"PRT\", \"GBR\", \"FRA\", \"ESP\", \"DEU\", \"ITA\", \"IRL\", \"BEL\", \"BRA\", \"NLD\", \"USA\", \"CHE\", \"CN\", \"AUT\", \"SWE\", \"CHN\", \"POL\", \"ISR\", \"RUS\", \"NOR\", \"ROU\", \"0    PRT\", \"FIN\", \"DNK\", \"AUS\", \"AGO\", \"LUX\", \"MAR\", \"TUR\", \"HUN\", \"ARG\", \"JPN\", \"CZE\", \"IND\", \"KOR\", \"GRC\", \"DZA\", \"SRB\", \"HRV\", \"MEX\", \"EST\", \"IRN\", \"LTU\", \"ZAF\", \"BGR\", \"NZL\", \"COL\", \"UKR\", \"MOZ\", \"SVK\", \"CHL\", \"THA\", \"ISL\", \"SVN\", \"LVA\", \"TWN\", \"ARE\", \"CYP\", \"SAU\", \"PHL\", \"TUN\", \"SGP\", \"IDN\", \"NGA\", \"URY\", \"EGY\", \"LBN\", \"HKG\", \"PER\", \"MYS\", \"ECU\", \"VEN\", \"BLR\", \"CPV\", \"GEO\", \"JOR\", \"KAZ\", \"CRI\", \"OMN\", \"GIB\", \"MLT\", \"AZE\", \"KWT\", \"MAC\", \"QAT\", \"IRQ\", \"PAK\", \"DOM\", \"BIH\", \"BGD\", \"MDV\", \"ALB\", \"PRI\", \"SEN\", \"MKD\", \"BOL\", \"CMR\", \"PAN\", \"GNB\", \"TJK\", \"CUB\", \"ARM\", \"LBY\", \"VNM\", \"JEY\", \"LKA\", \"AND\", \"MUS\", \"CIV\", \"JAM\", \"KEN\", \"BHR\", \"MNE\", \"SUR\", \"CAF\", \"TZA\", \"FRO\", \"PRY\", \"ZWE\", \"MCO\", \"GAB\", \"BRB\", \"GTM\", \"GHA\", \"UZB\", \"SYR\", \"BEN\", \"ETH\", \"GGY\", \"LIE\", \"TMP\", \"SYC\", \"ZMB\", \"STP\", \"KHM\", \"LAO\", \"GLP\", \"MWI\", \"ATA\", \"MYT\", \"SLV\", \"UGA\", \"RWA\", \"ABW\", \"TGO\", \"COM\", \"KNA\", \"IMN\", \"DJI\", \"UMI\", \"GUY\", \"FJI\", \"AIA\", \"LCA\", \"NIC\", \"SMR\", \"BHS\", \"DMA\", \"SDN\", \"ATF\", \"BDI\", \"MMR\", \"ASM\", \"VGB\", \"NPL\", \"MRT\", \"MLI\", \"PYF\", \"MDG\", \"HND\", \"SLE\", \"BFA\", \"NCL\", \"KIR\", \"CYM\", \"BWA\", \"NAM\", \"PLW\"], \"locations\": [\"PRT\", \"GBR\", \"FRA\", \"ESP\", \"DEU\", \"ITA\", \"IRL\", \"BEL\", \"BRA\", \"NLD\", \"USA\", \"CHE\", \"CN\", \"AUT\", \"SWE\", \"CHN\", \"POL\", \"ISR\", \"RUS\", \"NOR\", \"ROU\", \"0    PRT\", \"FIN\", \"DNK\", \"AUS\", \"AGO\", \"LUX\", \"MAR\", \"TUR\", \"HUN\", \"ARG\", \"JPN\", \"CZE\", \"IND\", \"KOR\", \"GRC\", \"DZA\", \"SRB\", \"HRV\", \"MEX\", \"EST\", \"IRN\", \"LTU\", \"ZAF\", \"BGR\", \"NZL\", \"COL\", \"UKR\", \"MOZ\", \"SVK\", \"CHL\", \"THA\", \"ISL\", \"SVN\", \"LVA\", \"TWN\", \"ARE\", \"CYP\", \"SAU\", \"PHL\", \"TUN\", \"SGP\", \"IDN\", \"NGA\", \"URY\", \"EGY\", \"LBN\", \"HKG\", \"PER\", \"MYS\", \"ECU\", \"VEN\", \"BLR\", \"CPV\", \"GEO\", \"JOR\", \"KAZ\", \"CRI\", \"OMN\", \"GIB\", \"MLT\", \"AZE\", \"KWT\", \"MAC\", \"QAT\", \"IRQ\", \"PAK\", \"DOM\", \"BIH\", \"BGD\", \"MDV\", \"ALB\", \"PRI\", \"SEN\", \"MKD\", \"BOL\", \"CMR\", \"PAN\", \"GNB\", \"TJK\", \"CUB\", \"ARM\", \"LBY\", \"VNM\", \"JEY\", \"LKA\", \"AND\", \"MUS\", \"CIV\", \"JAM\", \"KEN\", \"BHR\", \"MNE\", \"SUR\", \"CAF\", \"TZA\", \"FRO\", \"PRY\", \"ZWE\", \"MCO\", \"GAB\", \"BRB\", \"GTM\", \"GHA\", \"UZB\", \"SYR\", \"BEN\", \"ETH\", \"GGY\", \"LIE\", \"TMP\", \"SYC\", \"ZMB\", \"STP\", \"KHM\", \"LAO\", \"GLP\", \"MWI\", \"ATA\", \"MYT\", \"SLV\", \"UGA\", \"RWA\", \"ABW\", \"TGO\", \"COM\", \"KNA\", \"IMN\", \"DJI\", \"UMI\", \"GUY\", \"FJI\", \"AIA\", \"LCA\", \"NIC\", \"SMR\", \"BHS\", \"DMA\", \"SDN\", \"ATF\", \"BDI\", \"MMR\", \"ASM\", \"VGB\", \"NPL\", \"MRT\", \"MLI\", \"PYF\", \"MDG\", \"HND\", \"SLE\", \"BFA\", \"NCL\", \"KIR\", \"CYM\", \"BWA\", \"NAM\", \"PLW\"], \"name\": \"\", \"type\": \"choropleth\", \"z\": [10.788968500016754, 9.402612259623305, 9.249657234353133, 9.054855469135788, 8.893572718629306, 8.232440158470336, 8.123854263105914, 7.758760544157663, 7.706162970199576, 7.6511201757027, 7.646353722445999, 7.453561871643373, 7.153833801578843, 7.141245122350491, 6.927557906278317, 6.906754778648554, 6.822197390620491, 6.505784060128229, 6.4457198193855785, 6.408528791059498, 6.214608098422191, 6.169610732491456, 6.100318952020064, 6.075346031088684, 6.054439346269371, 5.8916442118257715, 5.655991810819852, 5.556828061699537, 5.5134287461649825, 5.438079308923196, 5.365976015021851, 5.2832037287379885, 5.14166355650266, 5.017279836814924, 4.890349128221754, 4.852030263919617, 4.634728988229636, 4.61512051684126, 4.605170185988092, 4.442651256490317, 4.418840607796598, 4.406719247264253, 4.394449154672439, 4.382026634673881, 4.31748811353631, 4.30406509320417, 4.2626798770413155, 4.219507705176107, 4.204692619390966, 4.174387269895637, 4.174387269895637, 4.07753744390572, 4.04305126783455, 4.02535169073515, 4.007333185232471, 3.9318256327243257, 3.9318256327243257, 3.9318256327243257, 3.871201010907891, 3.6888794541139363, 3.6635616461296463, 3.6375861597263857, 3.5553480614894135, 3.5263605246161616, 3.4657359027997265, 3.4657359027997265, 3.4339872044851463, 3.367295829986474, 3.367295829986474, 3.332204510175204, 3.295836866004329, 3.258096538021482, 3.258096538021482, 3.1780538303479458, 3.091042453358316, 3.044522437723423, 2.9444389791664403, 2.9444389791664403, 2.8903717578961645, 2.8903717578961645, 2.8903717578961645, 2.833213344056216, 2.772588722239781, 2.772588722239781, 2.70805020110221, 2.6390573296152584, 2.6390573296152584, 2.6390573296152584, 2.5649493574615367, 2.4849066497880004, 2.4849066497880004, 2.4849066497880004, 2.4849066497880004, 2.3978952727983707, 2.302585092994046, 2.302585092994046, 2.302585092994046, 2.1972245773362196, 2.1972245773362196, 2.1972245773362196, 2.0794415416798357, 2.0794415416798357, 2.0794415416798357, 2.0794415416798357, 2.0794415416798357, 1.9459101490553132, 1.9459101490553132, 1.9459101490553132, 1.791759469228055, 1.791759469228055, 1.791759469228055, 1.6094379124341003, 1.6094379124341003, 1.6094379124341003, 1.6094379124341003, 1.6094379124341003, 1.6094379124341003, 1.3862943611198906, 1.3862943611198906, 1.3862943611198906, 1.3862943611198906, 1.3862943611198906, 1.3862943611198906, 1.3862943611198906, 1.3862943611198906, 1.0986122886681098, 1.0986122886681098, 1.0986122886681098, 1.0986122886681098, 1.0986122886681098, 1.0986122886681098, 0.6931471805599453, 0.6931471805599453, 0.6931471805599453, 0.6931471805599453, 0.6931471805599453, 0.6931471805599453, 0.6931471805599453, 0.6931471805599453, 0.6931471805599453, 0.6931471805599453, 0.6931471805599453, 0.6931471805599453, 0.6931471805599453, 0.6931471805599453, 0.6931471805599453, 0.6931471805599453, 0.6931471805599453, 0.0, 0.0, 0.0, 0.0, 0.0, 0.0, 0.0, 0.0, 0.0, 0.0, 0.0, 0.0, 0.0, 0.0, 0.0, 0.0, 0.0, 0.0, 0.0, 0.0, 0.0, 0.0, 0.0, 0.0, 0.0, 0.0, 0.0, 0.0, 0.0, 0.0]}],\n",
       "                        {\"coloraxis\": {\"colorbar\": {\"title\": {\"text\": \"color\"}}, \"colorscale\": [[0.0, \"#0d0887\"], [0.1111111111111111, \"#46039f\"], [0.2222222222222222, \"#7201a8\"], [0.3333333333333333, \"#9c179e\"], [0.4444444444444444, \"#bd3786\"], [0.5555555555555556, \"#d8576b\"], [0.6666666666666666, \"#ed7953\"], [0.7777777777777778, \"#fb9f3a\"], [0.8888888888888888, \"#fdca26\"], [1.0, \"#f0f921\"]]}, \"geo\": {\"center\": {}, \"domain\": {\"x\": [0.0, 1.0], \"y\": [0.0, 1.0]}}, \"legend\": {\"tracegroupgap\": 0}, \"template\": {\"data\": {\"bar\": [{\"error_x\": {\"color\": \"#2a3f5f\"}, \"error_y\": {\"color\": \"#2a3f5f\"}, \"marker\": {\"line\": {\"color\": \"#E5ECF6\", \"width\": 0.5}}, \"type\": \"bar\"}], \"barpolar\": [{\"marker\": {\"line\": {\"color\": \"#E5ECF6\", \"width\": 0.5}}, \"type\": \"barpolar\"}], \"carpet\": [{\"aaxis\": {\"endlinecolor\": \"#2a3f5f\", \"gridcolor\": \"white\", \"linecolor\": \"white\", \"minorgridcolor\": \"white\", \"startlinecolor\": \"#2a3f5f\"}, \"baxis\": {\"endlinecolor\": \"#2a3f5f\", \"gridcolor\": \"white\", \"linecolor\": \"white\", \"minorgridcolor\": \"white\", \"startlinecolor\": \"#2a3f5f\"}, \"type\": \"carpet\"}], \"choropleth\": [{\"colorbar\": {\"outlinewidth\": 0, \"ticks\": \"\"}, \"type\": \"choropleth\"}], \"contour\": [{\"colorbar\": {\"outlinewidth\": 0, \"ticks\": \"\"}, \"colorscale\": [[0.0, \"#0d0887\"], [0.1111111111111111, \"#46039f\"], [0.2222222222222222, \"#7201a8\"], [0.3333333333333333, \"#9c179e\"], [0.4444444444444444, \"#bd3786\"], [0.5555555555555556, \"#d8576b\"], [0.6666666666666666, \"#ed7953\"], [0.7777777777777778, \"#fb9f3a\"], [0.8888888888888888, \"#fdca26\"], [1.0, \"#f0f921\"]], \"type\": \"contour\"}], \"contourcarpet\": [{\"colorbar\": {\"outlinewidth\": 0, \"ticks\": \"\"}, \"type\": \"contourcarpet\"}], \"heatmap\": [{\"colorbar\": {\"outlinewidth\": 0, \"ticks\": \"\"}, \"colorscale\": [[0.0, \"#0d0887\"], [0.1111111111111111, \"#46039f\"], [0.2222222222222222, \"#7201a8\"], [0.3333333333333333, \"#9c179e\"], [0.4444444444444444, \"#bd3786\"], [0.5555555555555556, \"#d8576b\"], [0.6666666666666666, \"#ed7953\"], [0.7777777777777778, \"#fb9f3a\"], [0.8888888888888888, \"#fdca26\"], [1.0, \"#f0f921\"]], \"type\": \"heatmap\"}], \"heatmapgl\": [{\"colorbar\": {\"outlinewidth\": 0, \"ticks\": \"\"}, \"colorscale\": [[0.0, \"#0d0887\"], [0.1111111111111111, \"#46039f\"], [0.2222222222222222, \"#7201a8\"], [0.3333333333333333, \"#9c179e\"], [0.4444444444444444, \"#bd3786\"], [0.5555555555555556, \"#d8576b\"], [0.6666666666666666, \"#ed7953\"], [0.7777777777777778, \"#fb9f3a\"], [0.8888888888888888, \"#fdca26\"], [1.0, \"#f0f921\"]], \"type\": \"heatmapgl\"}], \"histogram\": [{\"marker\": {\"colorbar\": {\"outlinewidth\": 0, \"ticks\": \"\"}}, \"type\": \"histogram\"}], \"histogram2d\": [{\"colorbar\": {\"outlinewidth\": 0, \"ticks\": \"\"}, \"colorscale\": [[0.0, \"#0d0887\"], [0.1111111111111111, \"#46039f\"], [0.2222222222222222, \"#7201a8\"], [0.3333333333333333, \"#9c179e\"], [0.4444444444444444, \"#bd3786\"], [0.5555555555555556, \"#d8576b\"], [0.6666666666666666, \"#ed7953\"], [0.7777777777777778, \"#fb9f3a\"], [0.8888888888888888, \"#fdca26\"], [1.0, \"#f0f921\"]], \"type\": \"histogram2d\"}], \"histogram2dcontour\": [{\"colorbar\": {\"outlinewidth\": 0, \"ticks\": \"\"}, \"colorscale\": [[0.0, \"#0d0887\"], [0.1111111111111111, \"#46039f\"], [0.2222222222222222, \"#7201a8\"], [0.3333333333333333, \"#9c179e\"], [0.4444444444444444, \"#bd3786\"], [0.5555555555555556, \"#d8576b\"], [0.6666666666666666, \"#ed7953\"], [0.7777777777777778, \"#fb9f3a\"], [0.8888888888888888, \"#fdca26\"], [1.0, \"#f0f921\"]], \"type\": \"histogram2dcontour\"}], \"mesh3d\": [{\"colorbar\": {\"outlinewidth\": 0, \"ticks\": \"\"}, \"type\": \"mesh3d\"}], \"parcoords\": [{\"line\": {\"colorbar\": {\"outlinewidth\": 0, \"ticks\": \"\"}}, \"type\": \"parcoords\"}], \"pie\": [{\"automargin\": true, \"type\": \"pie\"}], \"scatter\": [{\"marker\": {\"colorbar\": {\"outlinewidth\": 0, \"ticks\": \"\"}}, \"type\": \"scatter\"}], \"scatter3d\": [{\"line\": {\"colorbar\": {\"outlinewidth\": 0, \"ticks\": \"\"}}, \"marker\": {\"colorbar\": {\"outlinewidth\": 0, \"ticks\": \"\"}}, \"type\": \"scatter3d\"}], \"scattercarpet\": [{\"marker\": {\"colorbar\": {\"outlinewidth\": 0, \"ticks\": \"\"}}, \"type\": \"scattercarpet\"}], \"scattergeo\": [{\"marker\": {\"colorbar\": {\"outlinewidth\": 0, \"ticks\": \"\"}}, \"type\": \"scattergeo\"}], \"scattergl\": [{\"marker\": {\"colorbar\": {\"outlinewidth\": 0, \"ticks\": \"\"}}, \"type\": \"scattergl\"}], \"scattermapbox\": [{\"marker\": {\"colorbar\": {\"outlinewidth\": 0, \"ticks\": \"\"}}, \"type\": \"scattermapbox\"}], \"scatterpolar\": [{\"marker\": {\"colorbar\": {\"outlinewidth\": 0, \"ticks\": \"\"}}, \"type\": \"scatterpolar\"}], \"scatterpolargl\": [{\"marker\": {\"colorbar\": {\"outlinewidth\": 0, \"ticks\": \"\"}}, \"type\": \"scatterpolargl\"}], \"scatterternary\": [{\"marker\": {\"colorbar\": {\"outlinewidth\": 0, \"ticks\": \"\"}}, \"type\": \"scatterternary\"}], \"surface\": [{\"colorbar\": {\"outlinewidth\": 0, \"ticks\": \"\"}, \"colorscale\": [[0.0, \"#0d0887\"], [0.1111111111111111, \"#46039f\"], [0.2222222222222222, \"#7201a8\"], [0.3333333333333333, \"#9c179e\"], [0.4444444444444444, \"#bd3786\"], [0.5555555555555556, \"#d8576b\"], [0.6666666666666666, \"#ed7953\"], [0.7777777777777778, \"#fb9f3a\"], [0.8888888888888888, \"#fdca26\"], [1.0, \"#f0f921\"]], \"type\": \"surface\"}], \"table\": [{\"cells\": {\"fill\": {\"color\": \"#EBF0F8\"}, \"line\": {\"color\": \"white\"}}, \"header\": {\"fill\": {\"color\": \"#C8D4E3\"}, \"line\": {\"color\": \"white\"}}, \"type\": \"table\"}]}, \"layout\": {\"annotationdefaults\": {\"arrowcolor\": \"#2a3f5f\", \"arrowhead\": 0, \"arrowwidth\": 1}, \"coloraxis\": {\"colorbar\": {\"outlinewidth\": 0, \"ticks\": \"\"}}, \"colorscale\": {\"diverging\": [[0, \"#8e0152\"], [0.1, \"#c51b7d\"], [0.2, \"#de77ae\"], [0.3, \"#f1b6da\"], [0.4, \"#fde0ef\"], [0.5, \"#f7f7f7\"], [0.6, \"#e6f5d0\"], [0.7, \"#b8e186\"], [0.8, \"#7fbc41\"], [0.9, \"#4d9221\"], [1, \"#276419\"]], \"sequential\": [[0.0, \"#0d0887\"], [0.1111111111111111, \"#46039f\"], [0.2222222222222222, \"#7201a8\"], [0.3333333333333333, \"#9c179e\"], [0.4444444444444444, \"#bd3786\"], [0.5555555555555556, \"#d8576b\"], [0.6666666666666666, \"#ed7953\"], [0.7777777777777778, \"#fb9f3a\"], [0.8888888888888888, \"#fdca26\"], [1.0, \"#f0f921\"]], \"sequentialminus\": [[0.0, \"#0d0887\"], [0.1111111111111111, \"#46039f\"], [0.2222222222222222, \"#7201a8\"], [0.3333333333333333, \"#9c179e\"], [0.4444444444444444, \"#bd3786\"], [0.5555555555555556, \"#d8576b\"], [0.6666666666666666, \"#ed7953\"], [0.7777777777777778, \"#fb9f3a\"], [0.8888888888888888, \"#fdca26\"], [1.0, \"#f0f921\"]]}, \"colorway\": [\"#636efa\", \"#EF553B\", \"#00cc96\", \"#ab63fa\", \"#FFA15A\", \"#19d3f3\", \"#FF6692\", \"#B6E880\", \"#FF97FF\", \"#FECB52\"], \"font\": {\"color\": \"#2a3f5f\"}, \"geo\": {\"bgcolor\": \"white\", \"lakecolor\": \"white\", \"landcolor\": \"#E5ECF6\", \"showlakes\": true, \"showland\": true, \"subunitcolor\": \"white\"}, \"hoverlabel\": {\"align\": \"left\"}, \"hovermode\": \"closest\", \"mapbox\": {\"style\": \"light\"}, \"paper_bgcolor\": \"white\", \"plot_bgcolor\": \"#E5ECF6\", \"polar\": {\"angularaxis\": {\"gridcolor\": \"white\", \"linecolor\": \"white\", \"ticks\": \"\"}, \"bgcolor\": \"#E5ECF6\", \"radialaxis\": {\"gridcolor\": \"white\", \"linecolor\": \"white\", \"ticks\": \"\"}}, \"scene\": {\"xaxis\": {\"backgroundcolor\": \"#E5ECF6\", \"gridcolor\": \"white\", \"gridwidth\": 2, \"linecolor\": \"white\", \"showbackground\": true, \"ticks\": \"\", \"zerolinecolor\": \"white\"}, \"yaxis\": {\"backgroundcolor\": \"#E5ECF6\", \"gridcolor\": \"white\", \"gridwidth\": 2, \"linecolor\": \"white\", \"showbackground\": true, \"ticks\": \"\", \"zerolinecolor\": \"white\"}, \"zaxis\": {\"backgroundcolor\": \"#E5ECF6\", \"gridcolor\": \"white\", \"gridwidth\": 2, \"linecolor\": \"white\", \"showbackground\": true, \"ticks\": \"\", \"zerolinecolor\": \"white\"}}, \"shapedefaults\": {\"line\": {\"color\": \"#2a3f5f\"}}, \"ternary\": {\"aaxis\": {\"gridcolor\": \"white\", \"linecolor\": \"white\", \"ticks\": \"\"}, \"baxis\": {\"gridcolor\": \"white\", \"linecolor\": \"white\", \"ticks\": \"\"}, \"bgcolor\": \"#E5ECF6\", \"caxis\": {\"gridcolor\": \"white\", \"linecolor\": \"white\", \"ticks\": \"\"}}, \"title\": {\"x\": 0.05}, \"xaxis\": {\"automargin\": true, \"gridcolor\": \"white\", \"linecolor\": \"white\", \"ticks\": \"\", \"title\": {\"standoff\": 15}, \"zerolinecolor\": \"white\", \"zerolinewidth\": 2}, \"yaxis\": {\"automargin\": true, \"gridcolor\": \"white\", \"linecolor\": \"white\", \"ticks\": \"\", \"title\": {\"standoff\": 15}, \"zerolinecolor\": \"white\", \"zerolinewidth\": 2}}}, \"title\": {\"text\": \"Home country of guests\"}},\n",
       "                        {\"responsive\": true}\n",
       "                    ).then(function(){\n",
       "                            \n",
       "var gd = document.getElementById('fc048dbb-5aac-4f90-9e1c-8c4090465ec3');\n",
       "var x = new MutationObserver(function (mutations, observer) {{\n",
       "        var display = window.getComputedStyle(gd).display;\n",
       "        if (!display || display === 'none') {{\n",
       "            console.log([gd, 'removed!']);\n",
       "            Plotly.purge(gd);\n",
       "            observer.disconnect();\n",
       "        }}\n",
       "}});\n",
       "\n",
       "// Listen for the removal of the full notebook cells\n",
       "var notebookContainer = gd.closest('#notebook-container');\n",
       "if (notebookContainer) {{\n",
       "    x.observe(notebookContainer, {childList: true});\n",
       "}}\n",
       "\n",
       "// Listen for the clearing of the current output cell\n",
       "var outputEl = gd.closest('.output');\n",
       "if (outputEl) {{\n",
       "    x.observe(outputEl, {childList: true});\n",
       "}}\n",
       "\n",
       "                        })\n",
       "                };\n",
       "                \n",
       "            </script>\n",
       "        </div>\n",
       "</body>\n",
       "</html>"
      ]
     },
     "metadata": {
      "tags": []
     },
     "output_type": "display_data"
    }
   ],
   "source": [
    "temp = df1['country'].value_counts().reset_index().rename(columns={'index':'country','country':'count'})\n",
    "guest_map = px.choropleth(temp,\n",
    "                          locations=temp['country'],\n",
    "                          color=np.log(temp['count']), \n",
    "                          hover_name=temp['country'], \n",
    "                          color_continuous_scale=px.colors.sequential.Plasma,\n",
    "                          title=\"Home country of guests\")\n",
    "guest_map.show()"
   ]
  },
  {
   "cell_type": "markdown",
   "metadata": {
    "id": "srkKxYxyhyO8"
   },
   "source": [
    "\n",
    "\n",
    "\n",
    "> *   We have a huge number of visitors from western europe, namely **France,UK and Portugal** being the highest.\n",
    "*   we can instruct the marketing team to target people of this region.\n",
    "\n",
    "\n",
    "\n"
   ]
  },
  {
   "cell_type": "markdown",
   "metadata": {
    "id": "uRA0itDaMaGH"
   },
   "source": [
    "**F.Now We will  Find for how Long People Stay in the hotel**"
   ]
  },
  {
   "cell_type": "code",
   "execution_count": 40,
   "metadata": {
    "colab": {
     "base_uri": "https://localhost:8080/",
     "height": 454
    },
    "id": "6R4iEfahOtn_",
    "outputId": "ea619a8d-3d72-470e-fd8c-b6df104121f4"
   },
   "outputs": [
    {
     "name": "stderr",
     "output_type": "stream",
     "text": [
      "/usr/local/lib/python3.7/dist-packages/seaborn/_decorators.py:43: FutureWarning:\n",
      "\n",
      "Pass the following variables as keyword args: x, y. From version 0.12, the only valid positional argument will be `data`, and passing other arguments without an explicit keyword will result in an error or misinterpretation.\n",
      "\n"
     ]
    },
    {
     "data": {
      "text/plain": [
       "Text(0.5, 1.0, 'Night Stay Duration (Top 10)')"
      ]
     },
     "execution_count": 40,
     "metadata": {
      "tags": []
     },
     "output_type": "execute_result"
    },
    {
     "data": {
      "image/png": "[encoded data removed]",
      "text/plain": [
       "<Figure size 720x360 with 1 Axes>"
      ]
     },
     "metadata": {
      "needs_background": "light",
      "tags": []
     },
     "output_type": "display_data"
    }
   ],
   "source": [
    "total_nights = df_not_canceled['stays_in_weekend_nights']+ df_not_canceled['stays_in_week_nights']\n",
    "x,y = get_count(total_nights, limit=10)\n",
    "\n",
    "plt.figure(figsize=(10,5))\n",
    "sns.barplot(x,y)\n",
    "plt.xlabel('Number of Nights')\n",
    "plt.ylabel('Booking Percentage (%)')\n",
    "plt.title('Night Stay Duration (Top 10)')\n"
   ]
  },
  {
   "cell_type": "markdown",
   "metadata": {
    "id": "MGDNp_uejFUx"
   },
   "source": [
    "\n",
    "\n",
    "\n",
    "\n",
    "* **Couple (or 2 adults) is the most popular accommodation type. So hotels can make plans accordingly**\n",
    "\n",
    "\n",
    "\n",
    "\n"
   ]
  },
  {
   "cell_type": "code",
   "execution_count": 41,
   "metadata": {
    "colab": {
     "base_uri": "https://localhost:8080/",
     "height": 667
    },
    "id": "rqT4A1hyPCV6",
    "outputId": "85b7b5ad-3877-4163-abc4-9ec00f4d988b"
   },
   "outputs": [
    {
     "name": "stderr",
     "output_type": "stream",
     "text": [
      "/usr/local/lib/python3.7/dist-packages/pandas/core/indexing.py:1596: SettingWithCopyWarning:\n",
      "\n",
      "\n",
      "A value is trying to be set on a copy of a slice from a DataFrame.\n",
      "Try using .loc[row_indexer,col_indexer] = value instead\n",
      "\n",
      "See the caveats in the documentation: https://pandas.pydata.org/pandas-docs/stable/user_guide/indexing.html#returning-a-view-versus-a-copy\n",
      "\n",
      "/usr/local/lib/python3.7/dist-packages/pandas/core/indexing.py:1743: SettingWithCopyWarning:\n",
      "\n",
      "\n",
      "A value is trying to be set on a copy of a slice from a DataFrame.\n",
      "Try using .loc[row_indexer,col_indexer] = value instead\n",
      "\n",
      "See the caveats in the documentation: https://pandas.pydata.org/pandas-docs/stable/user_guide/indexing.html#returning-a-view-versus-a-copy\n",
      "\n"
     ]
    },
    {
     "data": {
      "text/plain": [
       "Text(0.5, 1.0, 'Hotel wise night stay duration (Top 10)')"
      ]
     },
     "execution_count": 41,
     "metadata": {
      "tags": []
     },
     "output_type": "execute_result"
    },
    {
     "data": {
      "image/png": "[encoded data removed]",
      "text/plain": [
       "<Figure size 1440x432 with 1 Axes>"
      ]
     },
     "metadata": {
      "needs_background": "light",
      "tags": []
     },
     "output_type": "display_data"
    }
   ],
   "source": [
    "df_not_canceled.loc[:,'total_nights'] = df_not_canceled['stays_in_weekend_nights']+ df_not_canceled['stays_in_week_nights']\n",
    "\n",
    "plt.figure(figsize=(20,6))\n",
    "sns.countplot(x='total_nights', hue='hotel', data=df_not_canceled, order = df_not_canceled.total_nights.value_counts().iloc[:10].index);\n",
    "plt.xlabel('No of Nights')\n",
    "plt.ylabel('No of Nights')\n",
    "plt.title('Hotel wise night stay duration (Top 10)')\n"
   ]
  },
  {
   "cell_type": "markdown",
   "metadata": {
    "id": "bArr-Gp-m1bo"
   },
   "source": [
    "\n",
    "\n",
    "> \n",
    "\n",
    "\n",
    "\n",
    "\n",
    "* **For Resort hotel, the most popular stay duration is three, two, one, and four days respectively.**\n",
    "* **For City hotel, most popular stay duration is one, two, seven(week), and three respectively.**\n",
    "\n",
    "\n",
    "\n",
    "\n",
    "\n",
    "\n"
   ]
  },
  {
   "cell_type": "markdown",
   "metadata": {
    "id": "C-5wEtR9PE96"
   },
   "source": [
    "**G.Trying to get the most booked accommodation type (Single, Couple, Family/Friends).**"
   ]
  },
  {
   "cell_type": "code",
   "execution_count": 42,
   "metadata": {
    "colab": {
     "base_uri": "https://localhost:8080/",
     "height": 548
    },
    "id": "lszMfYAuPr8z",
    "outputId": "7d4b313d-0512-4c2d-b845-d426d4054943"
   },
   "outputs": [
    {
     "name": "stderr",
     "output_type": "stream",
     "text": [
      "/usr/local/lib/python3.7/dist-packages/seaborn/_decorators.py:43: FutureWarning:\n",
      "\n",
      "Pass the following variables as keyword args: x, y. From version 0.12, the only valid positional argument will be `data`, and passing other arguments without an explicit keyword will result in an error or misinterpretation.\n",
      "\n"
     ]
    },
    {
     "data": {
      "text/plain": [
       "Text(0.5, 1.0, 'Accommodation Type')"
      ]
     },
     "execution_count": 42,
     "metadata": {
      "tags": []
     },
     "output_type": "execute_result"
    },
    {
     "data": {
      "image/png": "[encoded data removed]",
      "text/plain": [
       "<Figure size 720x504 with 1 Axes>"
      ]
     },
     "metadata": {
      "needs_background": "light",
      "tags": []
     },
     "output_type": "display_data"
    }
   ],
   "source": [
    "# Select single, couple, multiple adults and family/friends\n",
    "single   = df_not_canceled[(df_not_canceled.adults==1) & (df_not_canceled.children==0) & (df_not_canceled.babies==0)]\n",
    "couple   = df_not_canceled[(df_not_canceled.adults==2) & (df_not_canceled.children==0) & (df_not_canceled.babies==0)]\n",
    "# # adults = df_not_canceled[(df_not_canceled.adults>2) & (df_not_canceled.children==0) & (df_not_canceled.babies==0)]\n",
    "family   = df_not_canceled[df_not_canceled.adults + df_not_canceled.children + df_not_canceled.babies > 2]\n",
    "\n",
    "\n",
    "# ## Make the list of Category names, and their total percentage\n",
    "names = ['Single', 'Couple (No Children)', 'Family / Friends']\n",
    "count = [single.shape[0],couple.shape[0], family.shape[0]]\n",
    "count_percent = [x/df_not_canceled.shape[0]*100 for x in count]\n",
    "\n",
    "\n",
    "## Draw the curve\n",
    "plt.figure(figsize=(10,7))\n",
    "sns.barplot(names,count_percent)\n",
    "plt.ylabel('Booking (%)')\n",
    "plt.title('Accommodation Type')\n",
    "\n"
   ]
  },
  {
   "cell_type": "markdown",
   "metadata": {
    "id": "gdekc8JqqA0W"
   },
   "source": [
    "\n",
    "\n",
    "*  **Couple (or 2 adults) is the most popular accommodation type. So hotels can make plans accordingly**\n",
    "\n",
    "\n"
   ]
  },
  {
   "cell_type": "markdown",
   "metadata": {
    "id": "P2eSOE5TQQes"
   },
   "source": [
    "## **Feature Selection and Feature Engineering**"
   ]
  },
  {
   "cell_type": "code",
   "execution_count": 43,
   "metadata": {
    "id": "IBFUr9sDQipF"
   },
   "outputs": [],
   "source": [
    "#Copy the dataframe\n"
   ]
  },
  {
   "cell_type": "code",
   "execution_count": 44,
   "metadata": {
    "id": "UhgyqvWlqsM4"
   },
   "outputs": [],
   "source": [
    "df_subset = df_hba.copy()"
   ]
  },
  {
   "cell_type": "code",
   "execution_count": 45,
   "metadata": {
    "id": "glG72KkXQjK_"
   },
   "outputs": [],
   "source": [
    "#Remove reservation_status column\n",
    "\n",
    "#because it tells us if booking was cancelled \n"
   ]
  },
  {
   "cell_type": "code",
   "execution_count": 46,
   "metadata": {
    "id": "bF_5fUq1q2Ma"
   },
   "outputs": [],
   "source": [
    "df_subset = df_subset.drop(['reservation_status'], axis=1)"
   ]
  },
  {
   "cell_type": "code",
   "execution_count": 47,
   "metadata": {
    "id": "MqD1bH4sq5DC"
   },
   "outputs": [],
   "source": [
    "#Make the new column which contain 1 if guest received the same room which was reserved otherwise 0"
   ]
  },
  {
   "cell_type": "code",
   "execution_count": 48,
   "metadata": {
    "id": "gelnvA2ZQj6C"
   },
   "outputs": [],
   "source": [
    "df_subset['Room'] = 0\n",
    "df_subset.loc[ df_subset['reserved_room_type'] == df_subset['assigned_room_type'] , 'Room'] = 1"
   ]
  },
  {
   "cell_type": "code",
   "execution_count": 49,
   "metadata": {
    "id": "QVHyoeeIrCfP"
   },
   "outputs": [],
   "source": [
    "#Make the new column which contain 1 if the guest has cancelled more booking in the past than the number of booking he did not cancel, otherwise 0"
   ]
  },
  {
   "cell_type": "code",
   "execution_count": 50,
   "metadata": {
    "id": "WDXGc8flQkO0"
   },
   "outputs": [],
   "source": [
    "df_subset['net_cancelled'] = 0\n",
    "df_subset.loc[ df_subset['previous_cancellations'] > df_subset['previous_bookings_not_canceled'] , 'net_cancelled'] = 1"
   ]
  },
  {
   "cell_type": "code",
   "execution_count": 51,
   "metadata": {
    "id": "dKC8UCPbrMP4"
   },
   "outputs": [],
   "source": [
    "#Remove the less important features"
   ]
  },
  {
   "cell_type": "code",
   "execution_count": 52,
   "metadata": {
    "id": "tO-G6QM8sZ2g"
   },
   "outputs": [],
   "source": [
    "df_subset = df_subset.drop(['arrival_date_year','arrival_date_week_number','arrival_date_day_of_month',\n",
    "                           'arrival_date_month','assigned_room_type','reserved_room_type','reservation_status_date',\n",
    "                           'previous_cancellations','previous_bookings_not_canceled'],axis=1)\n"
   ]
  },
  {
   "cell_type": "markdown",
   "metadata": {
    "id": "LYjdHxYErRLg"
   },
   "source": [
    "Plot the heatmap to see correlation with columns"
   ]
  },
  {
   "cell_type": "code",
   "execution_count": 53,
   "metadata": {
    "colab": {
     "base_uri": "https://localhost:8080/",
     "height": 873
    },
    "id": "XTT-JhOgQO4_",
    "outputId": "453df23a-e75f-4f17-ef4d-4532d019e8ed"
   },
   "outputs": [
    {
     "data": {
      "image/png": "[encoded data removed]",
      "text/plain": [
       "<Figure size 1584x1080 with 2 Axes>"
      ]
     },
     "metadata": {
      "needs_background": "light",
      "tags": []
     },
     "output_type": "display_data"
    }
   ],
   "source": [
    "fig, ax = plt.subplots(figsize=(22,15))\n",
    "sns.heatmap(df_subset.corr(), annot=True, ax=ax);\n"
   ]
  }
 ],
 "metadata": {
  "colab": {
   "collapsed_sections": [],
   "name": "Team Hotel Booking Analysis - Capstone Project.ipynb",
   "provenance": []
  },
  "kernelspec": {
   "display_name": "Python 3",
   "language": "python",
   "name": "python3"
  },
  "language_info": {
   "codemirror_mode": {
    "name": "ipython",
    "version": 3
   },
   "file_extension": ".py",
   "mimetype": "text/x-python",
   "name": "python",
   "nbconvert_exporter": "python",
   "pygments_lexer": "ipython3",
   "version": "3.8.8"
  }
 },
 "nbformat": 4,
 "nbformat_minor": 1
}
